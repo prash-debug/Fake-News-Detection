{
  "nbformat": 4,
  "nbformat_minor": 0,
  "metadata": {
    "colab": {
      "name": "OTHER_MODELS_FAKENEWS (1).ipynb",
      "provenance": [],
      "collapsed_sections": []
    },
    "kernelspec": {
      "display_name": "Python 3",
      "language": "python",
      "name": "python3"
    },
    "language_info": {
      "codemirror_mode": {
        "name": "ipython",
        "version": 3
      },
      "file_extension": ".py",
      "mimetype": "text/x-python",
      "name": "python",
      "nbconvert_exporter": "python",
      "pygments_lexer": "ipython3",
      "version": "3.8.3"
    }
  },
  "cells": [
    {
      "cell_type": "code",
      "metadata": {
        "id": "90tg9jd21ias"
      },
      "source": [
        "import pandas as pd \n",
        "import numpy as np \n",
        "import nltk\n",
        "nltk.download('punkt')\n",
        "nltk.download('wordnet')\n",
        "\n",
        "\n",
        "from nltk.stem import WordNetLemmatizer\n",
        "\n",
        "#Visualization libraries\n",
        "import matplotlib.pyplot as plt \n",
        "import seaborn as sns\n",
        "#from textblob import TextBlob\n",
        "\n"
      ],
      "execution_count": null,
      "outputs": []
    },
    {
      "cell_type": "code",
      "metadata": {
        "id": "TYfTLVYF1ia2"
      },
      "source": [
        "!pip install plotly\n",
        "from plotly import tools\n",
        "import plotly.graph_objs as go\n",
        "from plotly.offline import iplot\n",
        "#%matplotlib inline"
      ],
      "execution_count": null,
      "outputs": []
    },
    {
      "cell_type": "code",
      "metadata": {
        "id": "SzJ30o4Q1ia4"
      },
      "source": [
        "!pip install nltk"
      ],
      "execution_count": null,
      "outputs": []
    },
    {
      "cell_type": "code",
      "metadata": {
        "id": "KHHUG3HS1ia4"
      },
      "source": [
        "!pip install --upgrade nbformat"
      ],
      "execution_count": null,
      "outputs": []
    },
    {
      "cell_type": "code",
      "metadata": {
        "id": "1elafTN-1ia5"
      },
      "source": [
        "!python -m pip install --upgrade pip"
      ],
      "execution_count": null,
      "outputs": []
    },
    {
      "cell_type": "code",
      "metadata": {
        "id": "zW1PTEGe1ia6"
      },
      "source": [
        "!pip install spacy"
      ],
      "execution_count": null,
      "outputs": []
    },
    {
      "cell_type": "code",
      "metadata": {
        "id": "wK13swWJ1ia6"
      },
      "source": [
        "!pip install WordCloud"
      ],
      "execution_count": null,
      "outputs": []
    },
    {
      "cell_type": "code",
      "metadata": {
        "id": "kBIbDDsR1ia6"
      },
      "source": [
        "!pip install gensim"
      ],
      "execution_count": null,
      "outputs": []
    },
    {
      "cell_type": "code",
      "metadata": {
        "id": "tfVsQ-yW1ia7"
      },
      "source": [
        "!pip install tensorflow"
      ],
      "execution_count": null,
      "outputs": []
    },
    {
      "cell_type": "code",
      "metadata": {
        "id": "ACw5Y7WK1ia7"
      },
      "source": [
        "import tensorflow as tf\n",
        "import nltk\n",
        "import re\n",
        "import string\n",
        "#from nltk.stem import PorterStemmer, WordNetLemmatizerLemmatizer\n",
        "from nltk.corpus import stopwords\n",
        "\n",
        "from wordcloud import WordCloud,STOPWORDS\n",
        "from nltk.stem.porter import PorterStemmer\n",
        "from sklearn.feature_extraction.text import TfidfVectorizer\n",
        "from sklearn.feature_extraction.text import CountVectorizer\n",
        "from sklearn.feature_extraction.text import TfidfTransformer\n",
        "\n",
        "from nltk.tokenize import word_tokenize,sent_tokenize\n",
        "import gensim\n",
        "from gensim.utils import simple_preprocess\n",
        "from gensim.parsing.preprocessing import STOPWORDS\n"
      ],
      "execution_count": null,
      "outputs": []
    },
    {
      "cell_type": "code",
      "metadata": {
        "id": "p4BWd-uy1ia8"
      },
      "source": [
        "import sklearn \n",
        "from sklearn.model_selection import GridSearchCV\n",
        "from sklearn.linear_model import LogisticRegression\n",
        "from sklearn.tree import DecisionTreeClassifier\n",
        "from sklearn.naive_bayes import MultinomialNB \n",
        "from sklearn.neighbors import KNeighborsClassifier\n",
        "from sklearn.model_selection import train_test_split"
      ],
      "execution_count": null,
      "outputs": []
    },
    {
      "cell_type": "code",
      "metadata": {
        "id": "X2BHIrCx1ia8"
      },
      "source": [
        "from sklearn import metrics\n",
        "from sklearn.metrics import classification_report\n",
        "#from sklearn.model_selection import cross_val_score\n",
        "from sklearn.metrics import roc_auc_score\n",
        "from sklearn.metrics import roc_curve\n",
        "from sklearn.metrics import confusion_matrix\n",
        "from sklearn.metrics import accuracy_score\n"
      ],
      "execution_count": null,
      "outputs": []
    },
    {
      "cell_type": "code",
      "metadata": {
        "id": "CZvqswTK1ia8"
      },
      "source": [
        "#Deep learning libraries\n",
        "from tensorflow.keras.preprocessing.text import one_hot, Tokenizer\n",
        "from tensorflow.keras.layers import Embedding\n",
        "from tensorflow.keras.preprocessing.sequence import pad_sequences\n",
        "from tensorflow.keras.models import Sequential\n",
        "from tensorflow.keras.layers import LSTM\n",
        "from tensorflow.keras.layers import Bidirectional\n",
        "from tensorflow.keras.layers import Dense,Conv1D,MaxPool1D,Flatten,Input\n",
        "from tensorflow.keras.layers import Dropout\n",
        "from tensorflow.keras.models import Model"
      ],
      "execution_count": null,
      "outputs": []
    },
    {
      "cell_type": "code",
      "metadata": {
        "colab": {
          "base_uri": "https://localhost:8080/"
        },
        "id": "dstf_oamUIb0",
        "outputId": "c2f3bf37-6dec-41a0-d1df-211900f6e2b2"
      },
      "source": [
        "from google.colab import drive\n",
        "drive.mount('/content/drive')"
      ],
      "execution_count": null,
      "outputs": [
        {
          "name": "stdout",
          "output_type": "stream",
          "text": [
            "Mounted at /content/drive\n"
          ]
        }
      ]
    },
    {
      "cell_type": "code",
      "metadata": {
        "id": "fuM0GZei1ia8"
      },
      "source": [
        "df_fake_news = pd.read_csv('/content/drive/My Drive/fake news/Fake.csv')\n",
        "df_true_news = pd.read_csv('/content/drive/My Drive/fake news/True.csv')"
      ],
      "execution_count": null,
      "outputs": []
    },
    {
      "cell_type": "code",
      "metadata": {
        "colab": {
          "base_uri": "https://localhost:8080/",
          "height": 415
        },
        "id": "A639totS1ia9",
        "outputId": "324e0700-0ec4-45c4-92b7-ae98734af160"
      },
      "source": [
        "df_true_news"
      ],
      "execution_count": null,
      "outputs": [
        {
          "data": {
            "text/html": [
              "<div>\n",
              "<style scoped>\n",
              "    .dataframe tbody tr th:only-of-type {\n",
              "        vertical-align: middle;\n",
              "    }\n",
              "\n",
              "    .dataframe tbody tr th {\n",
              "        vertical-align: top;\n",
              "    }\n",
              "\n",
              "    .dataframe thead th {\n",
              "        text-align: right;\n",
              "    }\n",
              "</style>\n",
              "<table border=\"1\" class=\"dataframe\">\n",
              "  <thead>\n",
              "    <tr style=\"text-align: right;\">\n",
              "      <th></th>\n",
              "      <th>title</th>\n",
              "      <th>text</th>\n",
              "      <th>subject</th>\n",
              "      <th>date</th>\n",
              "    </tr>\n",
              "  </thead>\n",
              "  <tbody>\n",
              "    <tr>\n",
              "      <th>0</th>\n",
              "      <td>As U.S. budget fight looms, Republicans flip t...</td>\n",
              "      <td>WASHINGTON (Reuters) - The head of a conservat...</td>\n",
              "      <td>politicsNews</td>\n",
              "      <td>December 31, 2017</td>\n",
              "    </tr>\n",
              "    <tr>\n",
              "      <th>1</th>\n",
              "      <td>U.S. military to accept transgender recruits o...</td>\n",
              "      <td>WASHINGTON (Reuters) - Transgender people will...</td>\n",
              "      <td>politicsNews</td>\n",
              "      <td>December 29, 2017</td>\n",
              "    </tr>\n",
              "    <tr>\n",
              "      <th>2</th>\n",
              "      <td>Senior U.S. Republican senator: 'Let Mr. Muell...</td>\n",
              "      <td>WASHINGTON (Reuters) - The special counsel inv...</td>\n",
              "      <td>politicsNews</td>\n",
              "      <td>December 31, 2017</td>\n",
              "    </tr>\n",
              "    <tr>\n",
              "      <th>3</th>\n",
              "      <td>FBI Russia probe helped by Australian diplomat...</td>\n",
              "      <td>WASHINGTON (Reuters) - Trump campaign adviser ...</td>\n",
              "      <td>politicsNews</td>\n",
              "      <td>December 30, 2017</td>\n",
              "    </tr>\n",
              "    <tr>\n",
              "      <th>4</th>\n",
              "      <td>Trump wants Postal Service to charge 'much mor...</td>\n",
              "      <td>SEATTLE/WASHINGTON (Reuters) - President Donal...</td>\n",
              "      <td>politicsNews</td>\n",
              "      <td>December 29, 2017</td>\n",
              "    </tr>\n",
              "    <tr>\n",
              "      <th>...</th>\n",
              "      <td>...</td>\n",
              "      <td>...</td>\n",
              "      <td>...</td>\n",
              "      <td>...</td>\n",
              "    </tr>\n",
              "    <tr>\n",
              "      <th>21412</th>\n",
              "      <td>'Fully committed' NATO backs new U.S. approach...</td>\n",
              "      <td>BRUSSELS (Reuters) - NATO allies on Tuesday we...</td>\n",
              "      <td>worldnews</td>\n",
              "      <td>August 22, 2017</td>\n",
              "    </tr>\n",
              "    <tr>\n",
              "      <th>21413</th>\n",
              "      <td>LexisNexis withdrew two products from Chinese ...</td>\n",
              "      <td>LONDON (Reuters) - LexisNexis, a provider of l...</td>\n",
              "      <td>worldnews</td>\n",
              "      <td>August 22, 2017</td>\n",
              "    </tr>\n",
              "    <tr>\n",
              "      <th>21414</th>\n",
              "      <td>Minsk cultural hub becomes haven from authorities</td>\n",
              "      <td>MINSK (Reuters) - In the shadow of disused Sov...</td>\n",
              "      <td>worldnews</td>\n",
              "      <td>August 22, 2017</td>\n",
              "    </tr>\n",
              "    <tr>\n",
              "      <th>21415</th>\n",
              "      <td>Vatican upbeat on possibility of Pope Francis ...</td>\n",
              "      <td>MOSCOW (Reuters) - Vatican Secretary of State ...</td>\n",
              "      <td>worldnews</td>\n",
              "      <td>August 22, 2017</td>\n",
              "    </tr>\n",
              "    <tr>\n",
              "      <th>21416</th>\n",
              "      <td>Indonesia to buy $1.14 billion worth of Russia...</td>\n",
              "      <td>JAKARTA (Reuters) - Indonesia will buy 11 Sukh...</td>\n",
              "      <td>worldnews</td>\n",
              "      <td>August 22, 2017</td>\n",
              "    </tr>\n",
              "  </tbody>\n",
              "</table>\n",
              "<p>21417 rows × 4 columns</p>\n",
              "</div>"
            ],
            "text/plain": [
              "                                                   title  ...                date\n",
              "0      As U.S. budget fight looms, Republicans flip t...  ...  December 31, 2017 \n",
              "1      U.S. military to accept transgender recruits o...  ...  December 29, 2017 \n",
              "2      Senior U.S. Republican senator: 'Let Mr. Muell...  ...  December 31, 2017 \n",
              "3      FBI Russia probe helped by Australian diplomat...  ...  December 30, 2017 \n",
              "4      Trump wants Postal Service to charge 'much mor...  ...  December 29, 2017 \n",
              "...                                                  ...  ...                 ...\n",
              "21412  'Fully committed' NATO backs new U.S. approach...  ...    August 22, 2017 \n",
              "21413  LexisNexis withdrew two products from Chinese ...  ...    August 22, 2017 \n",
              "21414  Minsk cultural hub becomes haven from authorities  ...    August 22, 2017 \n",
              "21415  Vatican upbeat on possibility of Pope Francis ...  ...    August 22, 2017 \n",
              "21416  Indonesia to buy $1.14 billion worth of Russia...  ...    August 22, 2017 \n",
              "\n",
              "[21417 rows x 4 columns]"
            ]
          },
          "execution_count": 17,
          "metadata": {
            "tags": []
          },
          "output_type": "execute_result"
        }
      ]
    },
    {
      "cell_type": "code",
      "metadata": {
        "colab": {
          "base_uri": "https://localhost:8080/",
          "height": 415
        },
        "id": "E8DJl--v1ia9",
        "outputId": "77b0a43e-0a1a-4c2c-cdf3-74acbafd48e9"
      },
      "source": [
        "df_fake_news"
      ],
      "execution_count": null,
      "outputs": [
        {
          "data": {
            "text/html": [
              "<div>\n",
              "<style scoped>\n",
              "    .dataframe tbody tr th:only-of-type {\n",
              "        vertical-align: middle;\n",
              "    }\n",
              "\n",
              "    .dataframe tbody tr th {\n",
              "        vertical-align: top;\n",
              "    }\n",
              "\n",
              "    .dataframe thead th {\n",
              "        text-align: right;\n",
              "    }\n",
              "</style>\n",
              "<table border=\"1\" class=\"dataframe\">\n",
              "  <thead>\n",
              "    <tr style=\"text-align: right;\">\n",
              "      <th></th>\n",
              "      <th>title</th>\n",
              "      <th>text</th>\n",
              "      <th>subject</th>\n",
              "      <th>date</th>\n",
              "    </tr>\n",
              "  </thead>\n",
              "  <tbody>\n",
              "    <tr>\n",
              "      <th>0</th>\n",
              "      <td>Donald Trump Sends Out Embarrassing New Year’...</td>\n",
              "      <td>Donald Trump just couldn t wish all Americans ...</td>\n",
              "      <td>News</td>\n",
              "      <td>December 31, 2017</td>\n",
              "    </tr>\n",
              "    <tr>\n",
              "      <th>1</th>\n",
              "      <td>Drunk Bragging Trump Staffer Started Russian ...</td>\n",
              "      <td>House Intelligence Committee Chairman Devin Nu...</td>\n",
              "      <td>News</td>\n",
              "      <td>December 31, 2017</td>\n",
              "    </tr>\n",
              "    <tr>\n",
              "      <th>2</th>\n",
              "      <td>Sheriff David Clarke Becomes An Internet Joke...</td>\n",
              "      <td>On Friday, it was revealed that former Milwauk...</td>\n",
              "      <td>News</td>\n",
              "      <td>December 30, 2017</td>\n",
              "    </tr>\n",
              "    <tr>\n",
              "      <th>3</th>\n",
              "      <td>Trump Is So Obsessed He Even Has Obama’s Name...</td>\n",
              "      <td>On Christmas day, Donald Trump announced that ...</td>\n",
              "      <td>News</td>\n",
              "      <td>December 29, 2017</td>\n",
              "    </tr>\n",
              "    <tr>\n",
              "      <th>4</th>\n",
              "      <td>Pope Francis Just Called Out Donald Trump Dur...</td>\n",
              "      <td>Pope Francis used his annual Christmas Day mes...</td>\n",
              "      <td>News</td>\n",
              "      <td>December 25, 2017</td>\n",
              "    </tr>\n",
              "    <tr>\n",
              "      <th>...</th>\n",
              "      <td>...</td>\n",
              "      <td>...</td>\n",
              "      <td>...</td>\n",
              "      <td>...</td>\n",
              "    </tr>\n",
              "    <tr>\n",
              "      <th>23476</th>\n",
              "      <td>McPain: John McCain Furious That Iran Treated ...</td>\n",
              "      <td>21st Century Wire says As 21WIRE reported earl...</td>\n",
              "      <td>Middle-east</td>\n",
              "      <td>January 16, 2016</td>\n",
              "    </tr>\n",
              "    <tr>\n",
              "      <th>23477</th>\n",
              "      <td>JUSTICE? Yahoo Settles E-mail Privacy Class-ac...</td>\n",
              "      <td>21st Century Wire says It s a familiar theme. ...</td>\n",
              "      <td>Middle-east</td>\n",
              "      <td>January 16, 2016</td>\n",
              "    </tr>\n",
              "    <tr>\n",
              "      <th>23478</th>\n",
              "      <td>Sunnistan: US and Allied ‘Safe Zone’ Plan to T...</td>\n",
              "      <td>Patrick Henningsen  21st Century WireRemember ...</td>\n",
              "      <td>Middle-east</td>\n",
              "      <td>January 15, 2016</td>\n",
              "    </tr>\n",
              "    <tr>\n",
              "      <th>23479</th>\n",
              "      <td>How to Blow $700 Million: Al Jazeera America F...</td>\n",
              "      <td>21st Century Wire says Al Jazeera America will...</td>\n",
              "      <td>Middle-east</td>\n",
              "      <td>January 14, 2016</td>\n",
              "    </tr>\n",
              "    <tr>\n",
              "      <th>23480</th>\n",
              "      <td>10 U.S. Navy Sailors Held by Iranian Military ...</td>\n",
              "      <td>21st Century Wire says As 21WIRE predicted in ...</td>\n",
              "      <td>Middle-east</td>\n",
              "      <td>January 12, 2016</td>\n",
              "    </tr>\n",
              "  </tbody>\n",
              "</table>\n",
              "<p>23481 rows × 4 columns</p>\n",
              "</div>"
            ],
            "text/plain": [
              "                                                   title  ...               date\n",
              "0       Donald Trump Sends Out Embarrassing New Year’...  ...  December 31, 2017\n",
              "1       Drunk Bragging Trump Staffer Started Russian ...  ...  December 31, 2017\n",
              "2       Sheriff David Clarke Becomes An Internet Joke...  ...  December 30, 2017\n",
              "3       Trump Is So Obsessed He Even Has Obama’s Name...  ...  December 29, 2017\n",
              "4       Pope Francis Just Called Out Donald Trump Dur...  ...  December 25, 2017\n",
              "...                                                  ...  ...                ...\n",
              "23476  McPain: John McCain Furious That Iran Treated ...  ...   January 16, 2016\n",
              "23477  JUSTICE? Yahoo Settles E-mail Privacy Class-ac...  ...   January 16, 2016\n",
              "23478  Sunnistan: US and Allied ‘Safe Zone’ Plan to T...  ...   January 15, 2016\n",
              "23479  How to Blow $700 Million: Al Jazeera America F...  ...   January 14, 2016\n",
              "23480  10 U.S. Navy Sailors Held by Iranian Military ...  ...   January 12, 2016\n",
              "\n",
              "[23481 rows x 4 columns]"
            ]
          },
          "execution_count": 18,
          "metadata": {
            "tags": []
          },
          "output_type": "execute_result"
        }
      ]
    },
    {
      "cell_type": "code",
      "metadata": {
        "colab": {
          "base_uri": "https://localhost:8080/"
        },
        "id": "hHqG7Y0P1ia-",
        "outputId": "71616c4b-43a9-4e0c-e0e5-d5dff7548339"
      },
      "source": [
        "df_true_news.isnull().sum()"
      ],
      "execution_count": null,
      "outputs": [
        {
          "data": {
            "text/plain": [
              "title      0\n",
              "text       0\n",
              "subject    0\n",
              "date       0\n",
              "dtype: int64"
            ]
          },
          "execution_count": 19,
          "metadata": {
            "tags": []
          },
          "output_type": "execute_result"
        }
      ]
    },
    {
      "cell_type": "code",
      "metadata": {
        "colab": {
          "base_uri": "https://localhost:8080/"
        },
        "id": "OiFBRtET1ia-",
        "outputId": "8b5692b3-d366-4335-d890-f54a65bc60f9"
      },
      "source": [
        "df_fake_news.isnull().sum()"
      ],
      "execution_count": null,
      "outputs": [
        {
          "data": {
            "text/plain": [
              "title      0\n",
              "text       0\n",
              "subject    0\n",
              "date       0\n",
              "dtype: int64"
            ]
          },
          "execution_count": 20,
          "metadata": {
            "tags": []
          },
          "output_type": "execute_result"
        }
      ]
    },
    {
      "cell_type": "code",
      "metadata": {
        "colab": {
          "base_uri": "https://localhost:8080/"
        },
        "id": "dmjnAaFn1ia-",
        "outputId": "bcad55db-9b94-43ae-dc61-a7010419a486"
      },
      "source": [
        "df_fake_news.info()"
      ],
      "execution_count": null,
      "outputs": [
        {
          "name": "stdout",
          "output_type": "stream",
          "text": [
            "<class 'pandas.core.frame.DataFrame'>\n",
            "RangeIndex: 23481 entries, 0 to 23480\n",
            "Data columns (total 4 columns):\n",
            " #   Column   Non-Null Count  Dtype \n",
            "---  ------   --------------  ----- \n",
            " 0   title    23481 non-null  object\n",
            " 1   text     23481 non-null  object\n",
            " 2   subject  23481 non-null  object\n",
            " 3   date     23481 non-null  object\n",
            "dtypes: object(4)\n",
            "memory usage: 733.9+ KB\n"
          ]
        }
      ]
    },
    {
      "cell_type": "code",
      "metadata": {
        "id": "fOE5euW01ia-"
      },
      "source": [
        "df_true_news.info()"
      ],
      "execution_count": null,
      "outputs": []
    },
    {
      "cell_type": "code",
      "metadata": {
        "colab": {
          "base_uri": "https://localhost:8080/"
        },
        "id": "B4P0Z1Be1ia_",
        "outputId": "16b492b0-5b68-4cdd-84a2-f7e766a68afe"
      },
      "source": [
        "(df_fake_news.shape)"
      ],
      "execution_count": null,
      "outputs": [
        {
          "data": {
            "text/plain": [
              "(23481, 4)"
            ]
          },
          "execution_count": 22,
          "metadata": {
            "tags": []
          },
          "output_type": "execute_result"
        }
      ]
    },
    {
      "cell_type": "code",
      "metadata": {
        "colab": {
          "base_uri": "https://localhost:8080/"
        },
        "id": "39gilVWV1ia_",
        "outputId": "a523f69f-227c-4c29-f89c-376fccb76614"
      },
      "source": [
        "(df_true_news.shape)"
      ],
      "execution_count": null,
      "outputs": [
        {
          "data": {
            "text/plain": [
              "(21417, 4)"
            ]
          },
          "execution_count": 23,
          "metadata": {
            "tags": []
          },
          "output_type": "execute_result"
        }
      ]
    },
    {
      "cell_type": "code",
      "metadata": {
        "id": "WwHM0POH1ia_"
      },
      "source": [
        "df_fake_news['label']=0\n",
        "df_true_news['label']=1\n",
        "\n",
        "#df_fake_news.head()\n",
        "df_true_news.head()\n"
      ],
      "execution_count": null,
      "outputs": []
    },
    {
      "cell_type": "code",
      "metadata": {
        "colab": {
          "base_uri": "https://localhost:8080/",
          "height": 415
        },
        "id": "8G8khIq51ibA",
        "outputId": "b1481d6e-d928-468a-825b-97ad6968f2c4"
      },
      "source": [
        "df = pd.concat([df_true_news,df_fake_news]).reset_index(drop=True)\n",
        "df"
      ],
      "execution_count": null,
      "outputs": [
        {
          "data": {
            "text/html": [
              "<div>\n",
              "<style scoped>\n",
              "    .dataframe tbody tr th:only-of-type {\n",
              "        vertical-align: middle;\n",
              "    }\n",
              "\n",
              "    .dataframe tbody tr th {\n",
              "        vertical-align: top;\n",
              "    }\n",
              "\n",
              "    .dataframe thead th {\n",
              "        text-align: right;\n",
              "    }\n",
              "</style>\n",
              "<table border=\"1\" class=\"dataframe\">\n",
              "  <thead>\n",
              "    <tr style=\"text-align: right;\">\n",
              "      <th></th>\n",
              "      <th>title</th>\n",
              "      <th>text</th>\n",
              "      <th>subject</th>\n",
              "      <th>date</th>\n",
              "      <th>label</th>\n",
              "    </tr>\n",
              "  </thead>\n",
              "  <tbody>\n",
              "    <tr>\n",
              "      <th>0</th>\n",
              "      <td>As U.S. budget fight looms, Republicans flip t...</td>\n",
              "      <td>WASHINGTON (Reuters) - The head of a conservat...</td>\n",
              "      <td>politicsNews</td>\n",
              "      <td>December 31, 2017</td>\n",
              "      <td>1</td>\n",
              "    </tr>\n",
              "    <tr>\n",
              "      <th>1</th>\n",
              "      <td>U.S. military to accept transgender recruits o...</td>\n",
              "      <td>WASHINGTON (Reuters) - Transgender people will...</td>\n",
              "      <td>politicsNews</td>\n",
              "      <td>December 29, 2017</td>\n",
              "      <td>1</td>\n",
              "    </tr>\n",
              "    <tr>\n",
              "      <th>2</th>\n",
              "      <td>Senior U.S. Republican senator: 'Let Mr. Muell...</td>\n",
              "      <td>WASHINGTON (Reuters) - The special counsel inv...</td>\n",
              "      <td>politicsNews</td>\n",
              "      <td>December 31, 2017</td>\n",
              "      <td>1</td>\n",
              "    </tr>\n",
              "    <tr>\n",
              "      <th>3</th>\n",
              "      <td>FBI Russia probe helped by Australian diplomat...</td>\n",
              "      <td>WASHINGTON (Reuters) - Trump campaign adviser ...</td>\n",
              "      <td>politicsNews</td>\n",
              "      <td>December 30, 2017</td>\n",
              "      <td>1</td>\n",
              "    </tr>\n",
              "    <tr>\n",
              "      <th>4</th>\n",
              "      <td>Trump wants Postal Service to charge 'much mor...</td>\n",
              "      <td>SEATTLE/WASHINGTON (Reuters) - President Donal...</td>\n",
              "      <td>politicsNews</td>\n",
              "      <td>December 29, 2017</td>\n",
              "      <td>1</td>\n",
              "    </tr>\n",
              "    <tr>\n",
              "      <th>...</th>\n",
              "      <td>...</td>\n",
              "      <td>...</td>\n",
              "      <td>...</td>\n",
              "      <td>...</td>\n",
              "      <td>...</td>\n",
              "    </tr>\n",
              "    <tr>\n",
              "      <th>44893</th>\n",
              "      <td>McPain: John McCain Furious That Iran Treated ...</td>\n",
              "      <td>21st Century Wire says As 21WIRE reported earl...</td>\n",
              "      <td>Middle-east</td>\n",
              "      <td>January 16, 2016</td>\n",
              "      <td>0</td>\n",
              "    </tr>\n",
              "    <tr>\n",
              "      <th>44894</th>\n",
              "      <td>JUSTICE? Yahoo Settles E-mail Privacy Class-ac...</td>\n",
              "      <td>21st Century Wire says It s a familiar theme. ...</td>\n",
              "      <td>Middle-east</td>\n",
              "      <td>January 16, 2016</td>\n",
              "      <td>0</td>\n",
              "    </tr>\n",
              "    <tr>\n",
              "      <th>44895</th>\n",
              "      <td>Sunnistan: US and Allied ‘Safe Zone’ Plan to T...</td>\n",
              "      <td>Patrick Henningsen  21st Century WireRemember ...</td>\n",
              "      <td>Middle-east</td>\n",
              "      <td>January 15, 2016</td>\n",
              "      <td>0</td>\n",
              "    </tr>\n",
              "    <tr>\n",
              "      <th>44896</th>\n",
              "      <td>How to Blow $700 Million: Al Jazeera America F...</td>\n",
              "      <td>21st Century Wire says Al Jazeera America will...</td>\n",
              "      <td>Middle-east</td>\n",
              "      <td>January 14, 2016</td>\n",
              "      <td>0</td>\n",
              "    </tr>\n",
              "    <tr>\n",
              "      <th>44897</th>\n",
              "      <td>10 U.S. Navy Sailors Held by Iranian Military ...</td>\n",
              "      <td>21st Century Wire says As 21WIRE predicted in ...</td>\n",
              "      <td>Middle-east</td>\n",
              "      <td>January 12, 2016</td>\n",
              "      <td>0</td>\n",
              "    </tr>\n",
              "  </tbody>\n",
              "</table>\n",
              "<p>44898 rows × 5 columns</p>\n",
              "</div>"
            ],
            "text/plain": [
              "                                                   title  ... label\n",
              "0      As U.S. budget fight looms, Republicans flip t...  ...     1\n",
              "1      U.S. military to accept transgender recruits o...  ...     1\n",
              "2      Senior U.S. Republican senator: 'Let Mr. Muell...  ...     1\n",
              "3      FBI Russia probe helped by Australian diplomat...  ...     1\n",
              "4      Trump wants Postal Service to charge 'much mor...  ...     1\n",
              "...                                                  ...  ...   ...\n",
              "44893  McPain: John McCain Furious That Iran Treated ...  ...     0\n",
              "44894  JUSTICE? Yahoo Settles E-mail Privacy Class-ac...  ...     0\n",
              "44895  Sunnistan: US and Allied ‘Safe Zone’ Plan to T...  ...     0\n",
              "44896  How to Blow $700 Million: Al Jazeera America F...  ...     0\n",
              "44897  10 U.S. Navy Sailors Held by Iranian Military ...  ...     0\n",
              "\n",
              "[44898 rows x 5 columns]"
            ]
          },
          "execution_count": 25,
          "metadata": {
            "tags": []
          },
          "output_type": "execute_result"
        }
      ]
    },
    {
      "cell_type": "code",
      "metadata": {
        "colab": {
          "base_uri": "https://localhost:8080/",
          "height": 589
        },
        "id": "wuGwEmX11ibA",
        "scrolled": true,
        "outputId": "013d56bd-e5d9-4e86-a6d0-efe55c91bc27"
      },
      "source": [
        "df['finalnews'] = df['title']+ ' ' + df['text']\n",
        "df"
      ],
      "execution_count": null,
      "outputs": [
        {
          "data": {
            "text/html": [
              "<div>\n",
              "<style scoped>\n",
              "    .dataframe tbody tr th:only-of-type {\n",
              "        vertical-align: middle;\n",
              "    }\n",
              "\n",
              "    .dataframe tbody tr th {\n",
              "        vertical-align: top;\n",
              "    }\n",
              "\n",
              "    .dataframe thead th {\n",
              "        text-align: right;\n",
              "    }\n",
              "</style>\n",
              "<table border=\"1\" class=\"dataframe\">\n",
              "  <thead>\n",
              "    <tr style=\"text-align: right;\">\n",
              "      <th></th>\n",
              "      <th>title</th>\n",
              "      <th>text</th>\n",
              "      <th>subject</th>\n",
              "      <th>date</th>\n",
              "      <th>label</th>\n",
              "      <th>finalnews</th>\n",
              "    </tr>\n",
              "  </thead>\n",
              "  <tbody>\n",
              "    <tr>\n",
              "      <th>0</th>\n",
              "      <td>As U.S. budget fight looms, Republicans flip t...</td>\n",
              "      <td>WASHINGTON (Reuters) - The head of a conservat...</td>\n",
              "      <td>politicsNews</td>\n",
              "      <td>December 31, 2017</td>\n",
              "      <td>1</td>\n",
              "      <td>As U.S. budget fight looms, Republicans flip t...</td>\n",
              "    </tr>\n",
              "    <tr>\n",
              "      <th>1</th>\n",
              "      <td>U.S. military to accept transgender recruits o...</td>\n",
              "      <td>WASHINGTON (Reuters) - Transgender people will...</td>\n",
              "      <td>politicsNews</td>\n",
              "      <td>December 29, 2017</td>\n",
              "      <td>1</td>\n",
              "      <td>U.S. military to accept transgender recruits o...</td>\n",
              "    </tr>\n",
              "    <tr>\n",
              "      <th>2</th>\n",
              "      <td>Senior U.S. Republican senator: 'Let Mr. Muell...</td>\n",
              "      <td>WASHINGTON (Reuters) - The special counsel inv...</td>\n",
              "      <td>politicsNews</td>\n",
              "      <td>December 31, 2017</td>\n",
              "      <td>1</td>\n",
              "      <td>Senior U.S. Republican senator: 'Let Mr. Muell...</td>\n",
              "    </tr>\n",
              "    <tr>\n",
              "      <th>3</th>\n",
              "      <td>FBI Russia probe helped by Australian diplomat...</td>\n",
              "      <td>WASHINGTON (Reuters) - Trump campaign adviser ...</td>\n",
              "      <td>politicsNews</td>\n",
              "      <td>December 30, 2017</td>\n",
              "      <td>1</td>\n",
              "      <td>FBI Russia probe helped by Australian diplomat...</td>\n",
              "    </tr>\n",
              "    <tr>\n",
              "      <th>4</th>\n",
              "      <td>Trump wants Postal Service to charge 'much mor...</td>\n",
              "      <td>SEATTLE/WASHINGTON (Reuters) - President Donal...</td>\n",
              "      <td>politicsNews</td>\n",
              "      <td>December 29, 2017</td>\n",
              "      <td>1</td>\n",
              "      <td>Trump wants Postal Service to charge 'much mor...</td>\n",
              "    </tr>\n",
              "    <tr>\n",
              "      <th>...</th>\n",
              "      <td>...</td>\n",
              "      <td>...</td>\n",
              "      <td>...</td>\n",
              "      <td>...</td>\n",
              "      <td>...</td>\n",
              "      <td>...</td>\n",
              "    </tr>\n",
              "    <tr>\n",
              "      <th>44893</th>\n",
              "      <td>McPain: John McCain Furious That Iran Treated ...</td>\n",
              "      <td>21st Century Wire says As 21WIRE reported earl...</td>\n",
              "      <td>Middle-east</td>\n",
              "      <td>January 16, 2016</td>\n",
              "      <td>0</td>\n",
              "      <td>McPain: John McCain Furious That Iran Treated ...</td>\n",
              "    </tr>\n",
              "    <tr>\n",
              "      <th>44894</th>\n",
              "      <td>JUSTICE? Yahoo Settles E-mail Privacy Class-ac...</td>\n",
              "      <td>21st Century Wire says It s a familiar theme. ...</td>\n",
              "      <td>Middle-east</td>\n",
              "      <td>January 16, 2016</td>\n",
              "      <td>0</td>\n",
              "      <td>JUSTICE? Yahoo Settles E-mail Privacy Class-ac...</td>\n",
              "    </tr>\n",
              "    <tr>\n",
              "      <th>44895</th>\n",
              "      <td>Sunnistan: US and Allied ‘Safe Zone’ Plan to T...</td>\n",
              "      <td>Patrick Henningsen  21st Century WireRemember ...</td>\n",
              "      <td>Middle-east</td>\n",
              "      <td>January 15, 2016</td>\n",
              "      <td>0</td>\n",
              "      <td>Sunnistan: US and Allied ‘Safe Zone’ Plan to T...</td>\n",
              "    </tr>\n",
              "    <tr>\n",
              "      <th>44896</th>\n",
              "      <td>How to Blow $700 Million: Al Jazeera America F...</td>\n",
              "      <td>21st Century Wire says Al Jazeera America will...</td>\n",
              "      <td>Middle-east</td>\n",
              "      <td>January 14, 2016</td>\n",
              "      <td>0</td>\n",
              "      <td>How to Blow $700 Million: Al Jazeera America F...</td>\n",
              "    </tr>\n",
              "    <tr>\n",
              "      <th>44897</th>\n",
              "      <td>10 U.S. Navy Sailors Held by Iranian Military ...</td>\n",
              "      <td>21st Century Wire says As 21WIRE predicted in ...</td>\n",
              "      <td>Middle-east</td>\n",
              "      <td>January 12, 2016</td>\n",
              "      <td>0</td>\n",
              "      <td>10 U.S. Navy Sailors Held by Iranian Military ...</td>\n",
              "    </tr>\n",
              "  </tbody>\n",
              "</table>\n",
              "<p>44898 rows × 6 columns</p>\n",
              "</div>"
            ],
            "text/plain": [
              "                                                   title  ...                                          finalnews\n",
              "0      As U.S. budget fight looms, Republicans flip t...  ...  As U.S. budget fight looms, Republicans flip t...\n",
              "1      U.S. military to accept transgender recruits o...  ...  U.S. military to accept transgender recruits o...\n",
              "2      Senior U.S. Republican senator: 'Let Mr. Muell...  ...  Senior U.S. Republican senator: 'Let Mr. Muell...\n",
              "3      FBI Russia probe helped by Australian diplomat...  ...  FBI Russia probe helped by Australian diplomat...\n",
              "4      Trump wants Postal Service to charge 'much mor...  ...  Trump wants Postal Service to charge 'much mor...\n",
              "...                                                  ...  ...                                                ...\n",
              "44893  McPain: John McCain Furious That Iran Treated ...  ...  McPain: John McCain Furious That Iran Treated ...\n",
              "44894  JUSTICE? Yahoo Settles E-mail Privacy Class-ac...  ...  JUSTICE? Yahoo Settles E-mail Privacy Class-ac...\n",
              "44895  Sunnistan: US and Allied ‘Safe Zone’ Plan to T...  ...  Sunnistan: US and Allied ‘Safe Zone’ Plan to T...\n",
              "44896  How to Blow $700 Million: Al Jazeera America F...  ...  How to Blow $700 Million: Al Jazeera America F...\n",
              "44897  10 U.S. Navy Sailors Held by Iranian Military ...  ...  10 U.S. Navy Sailors Held by Iranian Military ...\n",
              "\n",
              "[44898 rows x 6 columns]"
            ]
          },
          "execution_count": 26,
          "metadata": {
            "tags": []
          },
          "output_type": "execute_result"
        }
      ]
    },
    {
      "cell_type": "code",
      "metadata": {
        "colab": {
          "base_uri": "https://localhost:8080/",
          "height": 139
        },
        "id": "JTVpUdkN1ibA",
        "outputId": "870f36a9-11ce-4a37-b0a7-5cee455c57fb"
      },
      "source": [
        "df['finalnews'][0]"
      ],
      "execution_count": null,
      "outputs": [
        {
          "data": {
            "application/vnd.google.colaboratory.intrinsic+json": {
              "type": "string"
            },
            "text/plain": [
              "'As U.S. budget fight looms, Republicans flip their fiscal script WASHINGTON (Reuters) - The head of a conservative Republican faction in the U.S. Congress, who voted this month for a huge expansion of the national debt to pay for tax cuts, called himself a “fiscal conservative” on Sunday and urged budget restraint in 2018. In keeping with a sharp pivot under way among Republicans, U.S. Representative Mark Meadows, speaking on CBS’ “Face the Nation,” drew a hard line on federal spending, which lawmakers are bracing to do battle over in January. When they return from the holidays on Wednesday, lawmakers will begin trying to pass a federal budget in a fight likely to be linked to other issues, such as immigration policy, even as the November congressional election campaigns approach in which Republicans will seek to keep control of Congress. President Donald Trump and his Republicans want a big budget increase in military spending, while Democrats also want proportional increases for non-defense “discretionary” spending on programs that support education, scientific research, infrastructure, public health and environmental protection. “The (Trump) administration has already been willing to say: ‘We’re going to increase non-defense discretionary spending ... by about 7 percent,’” Meadows, chairman of the small but influential House Freedom Caucus, said on the program. “Now, Democrats are saying that’s not enough, we need to give the government a pay raise of 10 to 11 percent. For a fiscal conservative, I don’t see where the rationale is. ... Eventually you run out of other people’s money,” he said. Meadows was among Republicans who voted in late December for their party’s debt-financed tax overhaul, which is expected to balloon the federal budget deficit and add about $1.5 trillion over 10 years to the $20 trillion national debt. “It’s interesting to hear Mark talk about fiscal responsibility,” Democratic U.S. Representative Joseph Crowley said on CBS. Crowley said the Republican tax bill would require the  United States to borrow $1.5 trillion, to be paid off by future generations, to finance tax cuts for corporations and the rich. “This is one of the least ... fiscally responsible bills we’ve ever seen passed in the history of the House of Representatives. I think we’re going to be paying for this for many, many years to come,” Crowley said. Republicans insist the tax package, the biggest U.S. tax overhaul in more than 30 years,  will boost the economy and job growth. House Speaker Paul Ryan, who also supported the tax bill, recently went further than Meadows, making clear in a radio interview that welfare or “entitlement reform,” as the party often calls it, would be a top Republican priority in 2018. In Republican parlance, “entitlement” programs mean food stamps, housing assistance, Medicare and Medicaid health insurance for the elderly, poor and disabled, as well as other programs created by Washington to assist the needy. Democrats seized on Ryan’s early December remarks, saying they showed Republicans would try to pay for their tax overhaul by seeking spending cuts for social programs. But the goals of House Republicans may have to take a back seat to the Senate, where the votes of some Democrats will be needed to approve a budget and prevent a government shutdown. Democrats will use their leverage in the Senate, which Republicans narrowly control, to defend both discretionary non-defense programs and social spending, while tackling the issue of the “Dreamers,” people brought illegally to the country as children. Trump in September put a March 2018 expiration date on the Deferred Action for Childhood Arrivals, or DACA, program, which protects the young immigrants from deportation and provides them with work permits. The president has said in recent Twitter messages he wants funding for his proposed Mexican border wall and other immigration law changes in exchange for agreeing to help the Dreamers. Representative Debbie Dingell told CBS she did not favor linking that issue to other policy objectives, such as wall funding. “We need to do DACA clean,” she said.  On Wednesday, Trump aides will meet with congressional leaders to discuss those issues. That will be followed by a weekend of strategy sessions for Trump and Republican leaders on Jan. 6 and 7, the White House said. Trump was also scheduled to meet on Sunday with Florida Republican Governor Rick Scott, who wants more emergency aid. The House has passed an $81 billion aid package after hurricanes in Florida, Texas and Puerto Rico, and wildfires in California. The package far exceeded the $44 billion requested by the Trump administration. The Senate has not yet voted on the aid. '"
            ]
          },
          "execution_count": 27,
          "metadata": {
            "tags": []
          },
          "output_type": "execute_result"
        }
      ]
    },
    {
      "cell_type": "code",
      "metadata": {
        "id": "QqiaTfby1ibB",
        "scrolled": true
      },
      "source": [
        "df"
      ],
      "execution_count": null,
      "outputs": []
    },
    {
      "cell_type": "code",
      "metadata": {
        "colab": {
          "base_uri": "https://localhost:8080/"
        },
        "id": "AKgFskBS1ibD",
        "outputId": "0232d1c7-c314-41d0-8a4d-6d0dc4ae1b51"
      },
      "source": [
        "nltk.download(\"stopwords\")"
      ],
      "execution_count": null,
      "outputs": [
        {
          "name": "stdout",
          "output_type": "stream",
          "text": [
            "[nltk_data] Downloading package stopwords to /root/nltk_data...\n",
            "[nltk_data]   Unzipping corpora/stopwords.zip.\n"
          ]
        },
        {
          "data": {
            "text/plain": [
              "True"
            ]
          },
          "execution_count": 28,
          "metadata": {
            "tags": []
          },
          "output_type": "execute_result"
        }
      ]
    },
    {
      "cell_type": "code",
      "metadata": {
        "id": "t3Ng8XWD1ibD"
      },
      "source": [
        "from nltk.corpus import stopwords\n",
        "stop_words = stopwords.words('english')\n",
        "stop_words.extend(['from','re','use','edu'])"
      ],
      "execution_count": null,
      "outputs": []
    },
    {
      "cell_type": "code",
      "metadata": {
        "id": "n7Yf-Bz_1ibE"
      },
      "source": [
        "def preprocess(text):\n",
        "    text = str(text).lower().replace('[^\\w\\s]','') #remove punctuation\n",
        "    text = re.sub('https?://\\S+|www\\.\\S+', '', text) #remove links \n",
        "    res = []\n",
        "    for word in gensim.utils.simple_preprocess(text):\n",
        "        if word not in gensim.parsing.preprocessing.STOPWORDS and word not in stop_words:\n",
        "            res.append(word)\n",
        "    return res"
      ],
      "execution_count": null,
      "outputs": []
    },
    {
      "cell_type": "code",
      "metadata": {
        "id": "sFo9KCyp1ibE"
      },
      "source": [
        "df['preprocessed'] = df['finalnews'].apply(preprocess)"
      ],
      "execution_count": null,
      "outputs": []
    },
    {
      "cell_type": "code",
      "metadata": {
        "id": "sWbm3c3o1ibE"
      },
      "source": [
        "# preprocess('I was going to the salon,  and felt surprised !!! ')"
      ],
      "execution_count": null,
      "outputs": []
    },
    {
      "cell_type": "code",
      "metadata": {
        "id": "8taWqDqY1ibF"
      },
      "source": [
        "# preprocess(' The link that i got the news from is https://www.newsblog.com Check it !!. ')"
      ],
      "execution_count": null,
      "outputs": []
    },
    {
      "cell_type": "code",
      "metadata": {
        "id": "6HIqj29e1ibF"
      },
      "source": [
        "list_of_words = []\n",
        "for i in df['preprocessed']:\n",
        "    for j in i:\n",
        "        list_of_words.append(j)"
      ],
      "execution_count": null,
      "outputs": []
    },
    {
      "cell_type": "code",
      "metadata": {
        "colab": {
          "base_uri": "https://localhost:8080/"
        },
        "id": "rwY-tN8H1ibF",
        "outputId": "d406f894-4eb4-44ba-c737-87bf98cecbb6"
      },
      "source": [
        "len(list_of_words)"
      ],
      "execution_count": null,
      "outputs": [
        {
          "data": {
            "text/plain": [
              "9853912"
            ]
          },
          "execution_count": 33,
          "metadata": {
            "tags": []
          },
          "output_type": "execute_result"
        }
      ]
    },
    {
      "cell_type": "code",
      "metadata": {
        "colab": {
          "base_uri": "https://localhost:8080/"
        },
        "id": "85DuXHj01ibG",
        "outputId": "5ce74295-c0c3-4595-8bc6-d9bfe4af1c6f"
      },
      "source": [
        "total_words = len(list(set(list_of_words)))\n",
        "total_words"
      ],
      "execution_count": null,
      "outputs": [
        {
          "data": {
            "text/plain": [
              "110661"
            ]
          },
          "execution_count": 34,
          "metadata": {
            "tags": []
          },
          "output_type": "execute_result"
        }
      ]
    },
    {
      "cell_type": "code",
      "metadata": {
        "id": "Sw4qDDua1ibG"
      },
      "source": [
        "df['finalnews'] = df['preprocessed'].apply(lambda x: \" \".join(x))"
      ],
      "execution_count": null,
      "outputs": []
    },
    {
      "cell_type": "code",
      "metadata": {
        "id": "NuHxo7c11ibG"
      },
      "source": [
        "lemmatizer = WordNetLemmatizer()\n",
        "\n",
        "def word_lemmatizer(text):\n",
        "    lem_text = [lemmatizer.lemmatize(i) for i in text]\n",
        "    return lem_text"
      ],
      "execution_count": null,
      "outputs": []
    },
    {
      "cell_type": "code",
      "metadata": {
        "id": "3FgR3n4o1ibG"
      },
      "source": [
        "# word_lemmatizer(['going','crying','singing','running','wanting'])"
      ],
      "execution_count": null,
      "outputs": []
    },
    {
      "cell_type": "code",
      "metadata": {
        "id": "EvOh59m_1ibH"
      },
      "source": [
        "# stemmer = PorterStemmer()"
      ],
      "execution_count": null,
      "outputs": []
    },
    {
      "cell_type": "code",
      "metadata": {
        "id": "bpdpx1WA1ibI"
      },
      "source": [
        "df"
      ],
      "execution_count": null,
      "outputs": []
    },
    {
      "cell_type": "code",
      "metadata": {
        "colab": {
          "base_uri": "https://localhost:8080/",
          "height": 745
        },
        "id": "WWM0Mw-O1ibI",
        "outputId": "d554c226-968f-4afa-de27-c94587d6cefb"
      },
      "source": [
        "df['lematized'] = df['preprocessed'].apply(lambda x: word_lemmatizer(x))\n",
        "df"
      ],
      "execution_count": null,
      "outputs": [
        {
          "data": {
            "text/html": [
              "<div>\n",
              "<style scoped>\n",
              "    .dataframe tbody tr th:only-of-type {\n",
              "        vertical-align: middle;\n",
              "    }\n",
              "\n",
              "    .dataframe tbody tr th {\n",
              "        vertical-align: top;\n",
              "    }\n",
              "\n",
              "    .dataframe thead th {\n",
              "        text-align: right;\n",
              "    }\n",
              "</style>\n",
              "<table border=\"1\" class=\"dataframe\">\n",
              "  <thead>\n",
              "    <tr style=\"text-align: right;\">\n",
              "      <th></th>\n",
              "      <th>title</th>\n",
              "      <th>text</th>\n",
              "      <th>subject</th>\n",
              "      <th>date</th>\n",
              "      <th>label</th>\n",
              "      <th>finalnews</th>\n",
              "      <th>preprocessed</th>\n",
              "      <th>lematized</th>\n",
              "    </tr>\n",
              "  </thead>\n",
              "  <tbody>\n",
              "    <tr>\n",
              "      <th>0</th>\n",
              "      <td>As U.S. budget fight looms, Republicans flip t...</td>\n",
              "      <td>WASHINGTON (Reuters) - The head of a conservat...</td>\n",
              "      <td>politicsNews</td>\n",
              "      <td>December 31, 2017</td>\n",
              "      <td>1</td>\n",
              "      <td>budget fight looms republicans flip fiscal scr...</td>\n",
              "      <td>[budget, fight, looms, republicans, flip, fisc...</td>\n",
              "      <td>[budget, fight, loom, republican, flip, fiscal...</td>\n",
              "    </tr>\n",
              "    <tr>\n",
              "      <th>1</th>\n",
              "      <td>U.S. military to accept transgender recruits o...</td>\n",
              "      <td>WASHINGTON (Reuters) - Transgender people will...</td>\n",
              "      <td>politicsNews</td>\n",
              "      <td>December 29, 2017</td>\n",
              "      <td>1</td>\n",
              "      <td>military accept transgender recruits monday pe...</td>\n",
              "      <td>[military, accept, transgender, recruits, mond...</td>\n",
              "      <td>[military, accept, transgender, recruit, monda...</td>\n",
              "    </tr>\n",
              "    <tr>\n",
              "      <th>2</th>\n",
              "      <td>Senior U.S. Republican senator: 'Let Mr. Muell...</td>\n",
              "      <td>WASHINGTON (Reuters) - The special counsel inv...</td>\n",
              "      <td>politicsNews</td>\n",
              "      <td>December 31, 2017</td>\n",
              "      <td>1</td>\n",
              "      <td>senior republican senator let mr mueller job w...</td>\n",
              "      <td>[senior, republican, senator, let, mr, mueller...</td>\n",
              "      <td>[senior, republican, senator, let, mr, mueller...</td>\n",
              "    </tr>\n",
              "    <tr>\n",
              "      <th>3</th>\n",
              "      <td>FBI Russia probe helped by Australian diplomat...</td>\n",
              "      <td>WASHINGTON (Reuters) - Trump campaign adviser ...</td>\n",
              "      <td>politicsNews</td>\n",
              "      <td>December 30, 2017</td>\n",
              "      <td>1</td>\n",
              "      <td>fbi russia probe helped australian diplomat ti...</td>\n",
              "      <td>[fbi, russia, probe, helped, australian, diplo...</td>\n",
              "      <td>[fbi, russia, probe, helped, australian, diplo...</td>\n",
              "    </tr>\n",
              "    <tr>\n",
              "      <th>4</th>\n",
              "      <td>Trump wants Postal Service to charge 'much mor...</td>\n",
              "      <td>SEATTLE/WASHINGTON (Reuters) - President Donal...</td>\n",
              "      <td>politicsNews</td>\n",
              "      <td>December 29, 2017</td>\n",
              "      <td>1</td>\n",
              "      <td>trump wants postal service charge amazon shipm...</td>\n",
              "      <td>[trump, wants, postal, service, charge, amazon...</td>\n",
              "      <td>[trump, want, postal, service, charge, amazon,...</td>\n",
              "    </tr>\n",
              "    <tr>\n",
              "      <th>...</th>\n",
              "      <td>...</td>\n",
              "      <td>...</td>\n",
              "      <td>...</td>\n",
              "      <td>...</td>\n",
              "      <td>...</td>\n",
              "      <td>...</td>\n",
              "      <td>...</td>\n",
              "      <td>...</td>\n",
              "    </tr>\n",
              "    <tr>\n",
              "      <th>44893</th>\n",
              "      <td>McPain: John McCain Furious That Iran Treated ...</td>\n",
              "      <td>21st Century Wire says As 21WIRE reported earl...</td>\n",
              "      <td>Middle-east</td>\n",
              "      <td>January 16, 2016</td>\n",
              "      <td>0</td>\n",
              "      <td>mcpain john mccain furious iran treated sailor...</td>\n",
              "      <td>[mcpain, john, mccain, furious, iran, treated,...</td>\n",
              "      <td>[mcpain, john, mccain, furious, iran, treated,...</td>\n",
              "    </tr>\n",
              "    <tr>\n",
              "      <th>44894</th>\n",
              "      <td>JUSTICE? Yahoo Settles E-mail Privacy Class-ac...</td>\n",
              "      <td>21st Century Wire says It s a familiar theme. ...</td>\n",
              "      <td>Middle-east</td>\n",
              "      <td>January 16, 2016</td>\n",
              "      <td>0</td>\n",
              "      <td>justice yahoo settles mail privacy class actio...</td>\n",
              "      <td>[justice, yahoo, settles, mail, privacy, class...</td>\n",
              "      <td>[justice, yahoo, settle, mail, privacy, class,...</td>\n",
              "    </tr>\n",
              "    <tr>\n",
              "      <th>44895</th>\n",
              "      <td>Sunnistan: US and Allied ‘Safe Zone’ Plan to T...</td>\n",
              "      <td>Patrick Henningsen  21st Century WireRemember ...</td>\n",
              "      <td>Middle-east</td>\n",
              "      <td>January 15, 2016</td>\n",
              "      <td>0</td>\n",
              "      <td>sunnistan allied safe zone plan territorial bo...</td>\n",
              "      <td>[sunnistan, allied, safe, zone, plan, territor...</td>\n",
              "      <td>[sunnistan, allied, safe, zone, plan, territor...</td>\n",
              "    </tr>\n",
              "    <tr>\n",
              "      <th>44896</th>\n",
              "      <td>How to Blow $700 Million: Al Jazeera America F...</td>\n",
              "      <td>21st Century Wire says Al Jazeera America will...</td>\n",
              "      <td>Middle-east</td>\n",
              "      <td>January 14, 2016</td>\n",
              "      <td>0</td>\n",
              "      <td>blow million al jazeera america finally calls ...</td>\n",
              "      <td>[blow, million, al, jazeera, america, finally,...</td>\n",
              "      <td>[blow, million, al, jazeera, america, finally,...</td>\n",
              "    </tr>\n",
              "    <tr>\n",
              "      <th>44897</th>\n",
              "      <td>10 U.S. Navy Sailors Held by Iranian Military ...</td>\n",
              "      <td>21st Century Wire says As 21WIRE predicted in ...</td>\n",
              "      <td>Middle-east</td>\n",
              "      <td>January 12, 2016</td>\n",
              "      <td>0</td>\n",
              "      <td>navy sailors held iranian military signs neoco...</td>\n",
              "      <td>[navy, sailors, held, iranian, military, signs...</td>\n",
              "      <td>[navy, sailor, held, iranian, military, sign, ...</td>\n",
              "    </tr>\n",
              "  </tbody>\n",
              "</table>\n",
              "<p>44898 rows × 8 columns</p>\n",
              "</div>"
            ],
            "text/plain": [
              "                                                   title  ...                                          lematized\n",
              "0      As U.S. budget fight looms, Republicans flip t...  ...  [budget, fight, loom, republican, flip, fiscal...\n",
              "1      U.S. military to accept transgender recruits o...  ...  [military, accept, transgender, recruit, monda...\n",
              "2      Senior U.S. Republican senator: 'Let Mr. Muell...  ...  [senior, republican, senator, let, mr, mueller...\n",
              "3      FBI Russia probe helped by Australian diplomat...  ...  [fbi, russia, probe, helped, australian, diplo...\n",
              "4      Trump wants Postal Service to charge 'much mor...  ...  [trump, want, postal, service, charge, amazon,...\n",
              "...                                                  ...  ...                                                ...\n",
              "44893  McPain: John McCain Furious That Iran Treated ...  ...  [mcpain, john, mccain, furious, iran, treated,...\n",
              "44894  JUSTICE? Yahoo Settles E-mail Privacy Class-ac...  ...  [justice, yahoo, settle, mail, privacy, class,...\n",
              "44895  Sunnistan: US and Allied ‘Safe Zone’ Plan to T...  ...  [sunnistan, allied, safe, zone, plan, territor...\n",
              "44896  How to Blow $700 Million: Al Jazeera America F...  ...  [blow, million, al, jazeera, america, finally,...\n",
              "44897  10 U.S. Navy Sailors Held by Iranian Military ...  ...  [navy, sailor, held, iranian, military, sign, ...\n",
              "\n",
              "[44898 rows x 8 columns]"
            ]
          },
          "execution_count": 37,
          "metadata": {
            "tags": []
          },
          "output_type": "execute_result"
        }
      ]
    },
    {
      "cell_type": "code",
      "metadata": {
        "id": "Vz5LRHZ41ibJ"
      },
      "source": [
        "list_of_words_in_lem = []\n",
        "for i in df['lematized']:\n",
        "    for j in i:\n",
        "        list_of_words_in_lem.append(j)"
      ],
      "execution_count": null,
      "outputs": []
    },
    {
      "cell_type": "code",
      "metadata": {
        "colab": {
          "base_uri": "https://localhost:8080/"
        },
        "id": "0VqGkB2m1ibJ",
        "outputId": "5791f35a-f074-4168-a083-14e60d703429"
      },
      "source": [
        "len(list_of_words_in_lem)"
      ],
      "execution_count": null,
      "outputs": [
        {
          "data": {
            "text/plain": [
              "9853912"
            ]
          },
          "execution_count": 39,
          "metadata": {
            "tags": []
          },
          "output_type": "execute_result"
        }
      ]
    },
    {
      "cell_type": "code",
      "metadata": {
        "colab": {
          "base_uri": "https://localhost:8080/"
        },
        "id": "RA-czNex1ibK",
        "outputId": "2bb57619-e1fd-4dc6-a789-bd8d3293a7b6"
      },
      "source": [
        "total_words_by_lem = len(list(set(list_of_words_in_lem)))\n",
        "total_words_by_lem"
      ],
      "execution_count": null,
      "outputs": [
        {
          "data": {
            "text/plain": [
              "102399"
            ]
          },
          "execution_count": 40,
          "metadata": {
            "tags": []
          },
          "output_type": "execute_result"
        }
      ]
    },
    {
      "cell_type": "code",
      "metadata": {
        "colab": {
          "base_uri": "https://localhost:8080/",
          "height": 745
        },
        "id": "blYZfzTp1ibL",
        "outputId": "5f850e72-1500-495d-fb8b-94ab50f85f8f"
      },
      "source": [
        "df"
      ],
      "execution_count": null,
      "outputs": [
        {
          "data": {
            "text/html": [
              "<div>\n",
              "<style scoped>\n",
              "    .dataframe tbody tr th:only-of-type {\n",
              "        vertical-align: middle;\n",
              "    }\n",
              "\n",
              "    .dataframe tbody tr th {\n",
              "        vertical-align: top;\n",
              "    }\n",
              "\n",
              "    .dataframe thead th {\n",
              "        text-align: right;\n",
              "    }\n",
              "</style>\n",
              "<table border=\"1\" class=\"dataframe\">\n",
              "  <thead>\n",
              "    <tr style=\"text-align: right;\">\n",
              "      <th></th>\n",
              "      <th>title</th>\n",
              "      <th>text</th>\n",
              "      <th>subject</th>\n",
              "      <th>date</th>\n",
              "      <th>label</th>\n",
              "      <th>finalnews</th>\n",
              "      <th>preprocessed</th>\n",
              "      <th>lematized</th>\n",
              "    </tr>\n",
              "  </thead>\n",
              "  <tbody>\n",
              "    <tr>\n",
              "      <th>0</th>\n",
              "      <td>As U.S. budget fight looms, Republicans flip t...</td>\n",
              "      <td>WASHINGTON (Reuters) - The head of a conservat...</td>\n",
              "      <td>politicsNews</td>\n",
              "      <td>December 31, 2017</td>\n",
              "      <td>1</td>\n",
              "      <td>budget fight looms republicans flip fiscal scr...</td>\n",
              "      <td>[budget, fight, looms, republicans, flip, fisc...</td>\n",
              "      <td>[budget, fight, loom, republican, flip, fiscal...</td>\n",
              "    </tr>\n",
              "    <tr>\n",
              "      <th>1</th>\n",
              "      <td>U.S. military to accept transgender recruits o...</td>\n",
              "      <td>WASHINGTON (Reuters) - Transgender people will...</td>\n",
              "      <td>politicsNews</td>\n",
              "      <td>December 29, 2017</td>\n",
              "      <td>1</td>\n",
              "      <td>military accept transgender recruits monday pe...</td>\n",
              "      <td>[military, accept, transgender, recruits, mond...</td>\n",
              "      <td>[military, accept, transgender, recruit, monda...</td>\n",
              "    </tr>\n",
              "    <tr>\n",
              "      <th>2</th>\n",
              "      <td>Senior U.S. Republican senator: 'Let Mr. Muell...</td>\n",
              "      <td>WASHINGTON (Reuters) - The special counsel inv...</td>\n",
              "      <td>politicsNews</td>\n",
              "      <td>December 31, 2017</td>\n",
              "      <td>1</td>\n",
              "      <td>senior republican senator let mr mueller job w...</td>\n",
              "      <td>[senior, republican, senator, let, mr, mueller...</td>\n",
              "      <td>[senior, republican, senator, let, mr, mueller...</td>\n",
              "    </tr>\n",
              "    <tr>\n",
              "      <th>3</th>\n",
              "      <td>FBI Russia probe helped by Australian diplomat...</td>\n",
              "      <td>WASHINGTON (Reuters) - Trump campaign adviser ...</td>\n",
              "      <td>politicsNews</td>\n",
              "      <td>December 30, 2017</td>\n",
              "      <td>1</td>\n",
              "      <td>fbi russia probe helped australian diplomat ti...</td>\n",
              "      <td>[fbi, russia, probe, helped, australian, diplo...</td>\n",
              "      <td>[fbi, russia, probe, helped, australian, diplo...</td>\n",
              "    </tr>\n",
              "    <tr>\n",
              "      <th>4</th>\n",
              "      <td>Trump wants Postal Service to charge 'much mor...</td>\n",
              "      <td>SEATTLE/WASHINGTON (Reuters) - President Donal...</td>\n",
              "      <td>politicsNews</td>\n",
              "      <td>December 29, 2017</td>\n",
              "      <td>1</td>\n",
              "      <td>trump wants postal service charge amazon shipm...</td>\n",
              "      <td>[trump, wants, postal, service, charge, amazon...</td>\n",
              "      <td>[trump, want, postal, service, charge, amazon,...</td>\n",
              "    </tr>\n",
              "    <tr>\n",
              "      <th>...</th>\n",
              "      <td>...</td>\n",
              "      <td>...</td>\n",
              "      <td>...</td>\n",
              "      <td>...</td>\n",
              "      <td>...</td>\n",
              "      <td>...</td>\n",
              "      <td>...</td>\n",
              "      <td>...</td>\n",
              "    </tr>\n",
              "    <tr>\n",
              "      <th>44893</th>\n",
              "      <td>McPain: John McCain Furious That Iran Treated ...</td>\n",
              "      <td>21st Century Wire says As 21WIRE reported earl...</td>\n",
              "      <td>Middle-east</td>\n",
              "      <td>January 16, 2016</td>\n",
              "      <td>0</td>\n",
              "      <td>mcpain john mccain furious iran treated sailor...</td>\n",
              "      <td>[mcpain, john, mccain, furious, iran, treated,...</td>\n",
              "      <td>[mcpain, john, mccain, furious, iran, treated,...</td>\n",
              "    </tr>\n",
              "    <tr>\n",
              "      <th>44894</th>\n",
              "      <td>JUSTICE? Yahoo Settles E-mail Privacy Class-ac...</td>\n",
              "      <td>21st Century Wire says It s a familiar theme. ...</td>\n",
              "      <td>Middle-east</td>\n",
              "      <td>January 16, 2016</td>\n",
              "      <td>0</td>\n",
              "      <td>justice yahoo settles mail privacy class actio...</td>\n",
              "      <td>[justice, yahoo, settles, mail, privacy, class...</td>\n",
              "      <td>[justice, yahoo, settle, mail, privacy, class,...</td>\n",
              "    </tr>\n",
              "    <tr>\n",
              "      <th>44895</th>\n",
              "      <td>Sunnistan: US and Allied ‘Safe Zone’ Plan to T...</td>\n",
              "      <td>Patrick Henningsen  21st Century WireRemember ...</td>\n",
              "      <td>Middle-east</td>\n",
              "      <td>January 15, 2016</td>\n",
              "      <td>0</td>\n",
              "      <td>sunnistan allied safe zone plan territorial bo...</td>\n",
              "      <td>[sunnistan, allied, safe, zone, plan, territor...</td>\n",
              "      <td>[sunnistan, allied, safe, zone, plan, territor...</td>\n",
              "    </tr>\n",
              "    <tr>\n",
              "      <th>44896</th>\n",
              "      <td>How to Blow $700 Million: Al Jazeera America F...</td>\n",
              "      <td>21st Century Wire says Al Jazeera America will...</td>\n",
              "      <td>Middle-east</td>\n",
              "      <td>January 14, 2016</td>\n",
              "      <td>0</td>\n",
              "      <td>blow million al jazeera america finally calls ...</td>\n",
              "      <td>[blow, million, al, jazeera, america, finally,...</td>\n",
              "      <td>[blow, million, al, jazeera, america, finally,...</td>\n",
              "    </tr>\n",
              "    <tr>\n",
              "      <th>44897</th>\n",
              "      <td>10 U.S. Navy Sailors Held by Iranian Military ...</td>\n",
              "      <td>21st Century Wire says As 21WIRE predicted in ...</td>\n",
              "      <td>Middle-east</td>\n",
              "      <td>January 12, 2016</td>\n",
              "      <td>0</td>\n",
              "      <td>navy sailors held iranian military signs neoco...</td>\n",
              "      <td>[navy, sailors, held, iranian, military, signs...</td>\n",
              "      <td>[navy, sailor, held, iranian, military, sign, ...</td>\n",
              "    </tr>\n",
              "  </tbody>\n",
              "</table>\n",
              "<p>44898 rows × 8 columns</p>\n",
              "</div>"
            ],
            "text/plain": [
              "                                                   title  ...                                          lematized\n",
              "0      As U.S. budget fight looms, Republicans flip t...  ...  [budget, fight, loom, republican, flip, fiscal...\n",
              "1      U.S. military to accept transgender recruits o...  ...  [military, accept, transgender, recruit, monda...\n",
              "2      Senior U.S. Republican senator: 'Let Mr. Muell...  ...  [senior, republican, senator, let, mr, mueller...\n",
              "3      FBI Russia probe helped by Australian diplomat...  ...  [fbi, russia, probe, helped, australian, diplo...\n",
              "4      Trump wants Postal Service to charge 'much mor...  ...  [trump, want, postal, service, charge, amazon,...\n",
              "...                                                  ...  ...                                                ...\n",
              "44893  McPain: John McCain Furious That Iran Treated ...  ...  [mcpain, john, mccain, furious, iran, treated,...\n",
              "44894  JUSTICE? Yahoo Settles E-mail Privacy Class-ac...  ...  [justice, yahoo, settle, mail, privacy, class,...\n",
              "44895  Sunnistan: US and Allied ‘Safe Zone’ Plan to T...  ...  [sunnistan, allied, safe, zone, plan, territor...\n",
              "44896  How to Blow $700 Million: Al Jazeera America F...  ...  [blow, million, al, jazeera, america, finally,...\n",
              "44897  10 U.S. Navy Sailors Held by Iranian Military ...  ...  [navy, sailor, held, iranian, military, sign, ...\n",
              "\n",
              "[44898 rows x 8 columns]"
            ]
          },
          "execution_count": 41,
          "metadata": {
            "tags": []
          },
          "output_type": "execute_result"
        }
      ]
    },
    {
      "cell_type": "code",
      "metadata": {
        "id": "jXscx_MV1ibM"
      },
      "source": [
        "df['finalnews'] = df['lematized'].apply(lambda x: \" \".join(x))"
      ],
      "execution_count": null,
      "outputs": []
    },
    {
      "cell_type": "code",
      "metadata": {
        "colab": {
          "base_uri": "https://localhost:8080/",
          "height": 762
        },
        "id": "6xTPlsSI1ibM",
        "outputId": "13194851-7491-4d47-88a2-90338bd794e7"
      },
      "source": [
        "df=df.sample(frac=1).reset_index(drop=True)\n",
        "df"
      ],
      "execution_count": null,
      "outputs": [
        {
          "data": {
            "text/html": [
              "<div>\n",
              "<style scoped>\n",
              "    .dataframe tbody tr th:only-of-type {\n",
              "        vertical-align: middle;\n",
              "    }\n",
              "\n",
              "    .dataframe tbody tr th {\n",
              "        vertical-align: top;\n",
              "    }\n",
              "\n",
              "    .dataframe thead th {\n",
              "        text-align: right;\n",
              "    }\n",
              "</style>\n",
              "<table border=\"1\" class=\"dataframe\">\n",
              "  <thead>\n",
              "    <tr style=\"text-align: right;\">\n",
              "      <th></th>\n",
              "      <th>title</th>\n",
              "      <th>text</th>\n",
              "      <th>subject</th>\n",
              "      <th>date</th>\n",
              "      <th>label</th>\n",
              "      <th>finalnews</th>\n",
              "      <th>preprocessed</th>\n",
              "      <th>lematized</th>\n",
              "    </tr>\n",
              "  </thead>\n",
              "  <tbody>\n",
              "    <tr>\n",
              "      <th>0</th>\n",
              "      <td>Panic on London's Oxford Street after reports ...</td>\n",
              "      <td>LONDON (Reuters) - Panic erupted among Christm...</td>\n",
              "      <td>worldnews</td>\n",
              "      <td>November 24, 2017</td>\n",
              "      <td>1</td>\n",
              "      <td>panic london oxford street report shooting lon...</td>\n",
              "      <td>[panic, london, oxford, street, reports, shoot...</td>\n",
              "      <td>[panic, london, oxford, street, report, shooti...</td>\n",
              "    </tr>\n",
              "    <tr>\n",
              "      <th>1</th>\n",
              "      <td>U.S.-backed forces in Syria holding foreign Is...</td>\n",
              "      <td>BEIRUT (Reuters) - U.S.-backed militias in Syr...</td>\n",
              "      <td>worldnews</td>\n",
              "      <td>October 19, 2017</td>\n",
              "      <td>1</td>\n",
              "      <td>backed force syria holding foreign islamic sta...</td>\n",
              "      <td>[backed, forces, syria, holding, foreign, isla...</td>\n",
              "      <td>[backed, force, syria, holding, foreign, islam...</td>\n",
              "    </tr>\n",
              "    <tr>\n",
              "      <th>2</th>\n",
              "      <td>Trump says hopes to avoid use of military acti...</td>\n",
              "      <td>WASHINGTON (Reuters) - U.S. President Donald T...</td>\n",
              "      <td>worldnews</td>\n",
              "      <td>September 7, 2017</td>\n",
              "      <td>1</td>\n",
              "      <td>trump say hope avoid military action north kor...</td>\n",
              "      <td>[trump, says, hopes, avoid, military, action, ...</td>\n",
              "      <td>[trump, say, hope, avoid, military, action, no...</td>\n",
              "    </tr>\n",
              "    <tr>\n",
              "      <th>3</th>\n",
              "      <td>LOL! NYC COLLEGE Tells NYPD To Use Bathroom At...</td>\n",
              "      <td>Brooklyn College is advising New York City pol...</td>\n",
              "      <td>politics</td>\n",
              "      <td>Nov 21, 2017</td>\n",
              "      <td>0</td>\n",
              "      <td>lol nyc college tell nypd bathroom far end cam...</td>\n",
              "      <td>[lol, nyc, college, tells, nypd, bathroom, far...</td>\n",
              "      <td>[lol, nyc, college, tell, nypd, bathroom, far,...</td>\n",
              "    </tr>\n",
              "    <tr>\n",
              "      <th>4</th>\n",
              "      <td>Stephen Colbert Mercilessly And Hilariously M...</td>\n",
              "      <td>In a glorious segment on the Late Show, Stephe...</td>\n",
              "      <td>News</td>\n",
              "      <td>January 6, 2016</td>\n",
              "      <td>0</td>\n",
              "      <td>stephen colbert mercilessly hilariously mock u...</td>\n",
              "      <td>[stephen, colbert, mercilessly, hilariously, m...</td>\n",
              "      <td>[stephen, colbert, mercilessly, hilariously, m...</td>\n",
              "    </tr>\n",
              "    <tr>\n",
              "      <th>...</th>\n",
              "      <td>...</td>\n",
              "      <td>...</td>\n",
              "      <td>...</td>\n",
              "      <td>...</td>\n",
              "      <td>...</td>\n",
              "      <td>...</td>\n",
              "      <td>...</td>\n",
              "      <td>...</td>\n",
              "    </tr>\n",
              "    <tr>\n",
              "      <th>44893</th>\n",
              "      <td>Someone Just Bought AlternativeFacts.com And ...</td>\n",
              "      <td>Just when you thought you may lose all faith i...</td>\n",
              "      <td>News</td>\n",
              "      <td>January 26, 2017</td>\n",
              "      <td>0</td>\n",
              "      <td>bought com king brilliant image thought lose f...</td>\n",
              "      <td>[bought, com, king, brilliant, image, thought,...</td>\n",
              "      <td>[bought, com, king, brilliant, image, thought,...</td>\n",
              "    </tr>\n",
              "    <tr>\n",
              "      <th>44894</th>\n",
              "      <td>UNHINGED FEMINIST PROTESTERS MAKING ‘P*SSYHATS...</td>\n",
              "      <td>As the Pussyhat Project s flier helpfully poin...</td>\n",
              "      <td>left-news</td>\n",
              "      <td>Jan 15, 2017</td>\n",
              "      <td>0</td>\n",
              "      <td>unhinged feminist protester making ssyhats wea...</td>\n",
              "      <td>[unhinged, feminist, protesters, making, ssyha...</td>\n",
              "      <td>[unhinged, feminist, protester, making, ssyhat...</td>\n",
              "    </tr>\n",
              "    <tr>\n",
              "      <th>44895</th>\n",
              "      <td>Maher EVISCERATES Trump’s Insane Presser; Get...</td>\n",
              "      <td>Donald Trump is dangerous as president. Anyone...</td>\n",
              "      <td>News</td>\n",
              "      <td>February 17, 2017</td>\n",
              "      <td>0</td>\n",
              "      <td>maher eviscerates trump insane presser get rea...</td>\n",
              "      <td>[maher, eviscerates, trump, insane, presser, g...</td>\n",
              "      <td>[maher, eviscerates, trump, insane, presser, g...</td>\n",
              "    </tr>\n",
              "    <tr>\n",
              "      <th>44896</th>\n",
              "      <td>Russia says ready to work with North Korea to ...</td>\n",
              "      <td>MOSCOW (Reuters) - Moscow is prepared to work ...</td>\n",
              "      <td>worldnews</td>\n",
              "      <td>September 29, 2017</td>\n",
              "      <td>1</td>\n",
              "      <td>russia say ready work north korea resolve miss...</td>\n",
              "      <td>[russia, says, ready, work, north, korea, reso...</td>\n",
              "      <td>[russia, say, ready, work, north, korea, resol...</td>\n",
              "    </tr>\n",
              "    <tr>\n",
              "      <th>44897</th>\n",
              "      <td>Good ‘Christian’ Bristol Palin Responds To ‘B...</td>\n",
              "      <td>In case you haven t heard, there s a theory go...</td>\n",
              "      <td>News</td>\n",
              "      <td>January 5, 2016</td>\n",
              "      <td>0</td>\n",
              "      <td>good christian bristol palin responds babygate...</td>\n",
              "      <td>[good, christian, bristol, palin, responds, ba...</td>\n",
              "      <td>[good, christian, bristol, palin, responds, ba...</td>\n",
              "    </tr>\n",
              "  </tbody>\n",
              "</table>\n",
              "<p>44898 rows × 8 columns</p>\n",
              "</div>"
            ],
            "text/plain": [
              "                                                   title  ...                                          lematized\n",
              "0      Panic on London's Oxford Street after reports ...  ...  [panic, london, oxford, street, report, shooti...\n",
              "1      U.S.-backed forces in Syria holding foreign Is...  ...  [backed, force, syria, holding, foreign, islam...\n",
              "2      Trump says hopes to avoid use of military acti...  ...  [trump, say, hope, avoid, military, action, no...\n",
              "3      LOL! NYC COLLEGE Tells NYPD To Use Bathroom At...  ...  [lol, nyc, college, tell, nypd, bathroom, far,...\n",
              "4       Stephen Colbert Mercilessly And Hilariously M...  ...  [stephen, colbert, mercilessly, hilariously, m...\n",
              "...                                                  ...  ...                                                ...\n",
              "44893   Someone Just Bought AlternativeFacts.com And ...  ...  [bought, com, king, brilliant, image, thought,...\n",
              "44894  UNHINGED FEMINIST PROTESTERS MAKING ‘P*SSYHATS...  ...  [unhinged, feminist, protester, making, ssyhat...\n",
              "44895   Maher EVISCERATES Trump’s Insane Presser; Get...  ...  [maher, eviscerates, trump, insane, presser, g...\n",
              "44896  Russia says ready to work with North Korea to ...  ...  [russia, say, ready, work, north, korea, resol...\n",
              "44897   Good ‘Christian’ Bristol Palin Responds To ‘B...  ...  [good, christian, bristol, palin, responds, ba...\n",
              "\n",
              "[44898 rows x 8 columns]"
            ]
          },
          "execution_count": 43,
          "metadata": {
            "tags": []
          },
          "output_type": "execute_result"
        }
      ]
    },
    {
      "cell_type": "code",
      "metadata": {
        "colab": {
          "base_uri": "https://localhost:8080/"
        },
        "id": "UEnvfpV31ibN",
        "outputId": "674f5174-7815-4b58-95c2-f65c2ec9b78c"
      },
      "source": [
        "maxlen1 = -1\n",
        "for doc in df.finalnews:\n",
        "    tokens = nltk.word_tokenize(doc)\n",
        "    if(maxlen1<len(tokens)):\n",
        "        maxlen1 = len(tokens)\n",
        "print(\"The max number of words in an entire news article in the dataset is \", maxlen1)"
      ],
      "execution_count": null,
      "outputs": [
        {
          "name": "stdout",
          "output_type": "stream",
          "text": [
            "The max number of words in an entire news article in the dataset is  4594\n"
          ]
        }
      ]
    },
    {
      "cell_type": "code",
      "metadata": {
        "id": "YSvCurNYuauR"
      },
      "source": [
        "x_df=df['finalnews']\n",
        "y_df=df['label']"
      ],
      "execution_count": null,
      "outputs": []
    },
    {
      "cell_type": "code",
      "metadata": {
        "colab": {
          "base_uri": "https://localhost:8080/"
        },
        "id": "8QlXiL1mutsA",
        "outputId": "507342cf-4c56-4b23-8c97-cf50efff5285"
      },
      "source": [
        "x_df.head()\n"
      ],
      "execution_count": null,
      "outputs": [
        {
          "data": {
            "text/plain": [
              "0    panic london oxford street report shooting lon...\n",
              "1    backed force syria holding foreign islamic sta...\n",
              "2    trump say hope avoid military action north kor...\n",
              "3    lol nyc college tell nypd bathroom far end cam...\n",
              "4    stephen colbert mercilessly hilariously mock u...\n",
              "Name: finalnews, dtype: object"
            ]
          },
          "execution_count": 46,
          "metadata": {
            "tags": []
          },
          "output_type": "execute_result"
        }
      ]
    },
    {
      "cell_type": "code",
      "metadata": {
        "id": "Cj0MXeAOvUqo"
      },
      "source": [
        "# count_vectorizer = CountVectorizer()\n",
        "# count_vectorizer.fit_transform(x_df)\n",
        "# count_vec_matrix = count_vectorizer.transform(x_df)\n",
        "\n",
        "# tfidf = TfidfTransformer(norm = \"l2\")\n",
        "# tfidf.fit(count_vec_matrix)\n",
        "# tf_idf_matrix = tfidf.fit_transform(count_vec_matrix)\n"
      ],
      "execution_count": null,
      "outputs": []
    },
    {
      "cell_type": "code",
      "metadata": {
        "id": "mID1hj601ibN"
      },
      "source": [
        "from sklearn.model_selection import train_test_split\n",
        "x_train, x_test, y_train, y_test = train_test_split(x_df, y_df, test_size = 0.2)"
      ],
      "execution_count": null,
      "outputs": []
    },
    {
      "cell_type": "code",
      "metadata": {
        "id": "YXNff31AED-_"
      },
      "source": [
        "count_vectorizer = CountVectorizer()\n",
        "count_vectorizer.fit_transform(x_train)\n",
        "count_vec_matrix = count_vectorizer.transform(x_train)\n",
        "cvm=count_vectorizer.transform(x_test)\n",
        "tfidf = TfidfTransformer(norm = \"l2\")\n",
        "tfidf.fit(count_vec_matrix)\n",
        "x_train = tfidf.fit_transform(count_vec_matrix)\n",
        "x_test=tfidf.fit_transform(cvm)"
      ],
      "execution_count": null,
      "outputs": []
    },
    {
      "cell_type": "code",
      "metadata": {
        "id": "Q8SvjpVA1ibN"
      },
      "source": [
        "from nltk import word_tokenize"
      ],
      "execution_count": null,
      "outputs": []
    },
    {
      "cell_type": "code",
      "metadata": {
        "id": "buuVLdrW1ibh"
      },
      "source": [
        "#  padded_train = pad_sequences(train_sequences, maxlen = 4593, padding = 'post', truncating = 'post')\n",
        "#  padded_test = pad_sequences(test_sequences, maxlen = 4593, truncating = 'post')\n"
      ],
      "execution_count": null,
      "outputs": []
    },
    {
      "cell_type": "code",
      "metadata": {
        "id": "x1ILWHTo1ibh"
      },
      "source": [
        "# padded_train"
      ],
      "execution_count": null,
      "outputs": []
    },
    {
      "cell_type": "code",
      "metadata": {
        "colab": {
          "base_uri": "https://localhost:8080/"
        },
        "id": "eIphGaaa1ibh",
        "outputId": "572b0cee-a05b-4896-a5fd-2960dd87a71a"
      },
      "source": [
        "total_words"
      ],
      "execution_count": null,
      "outputs": [
        {
          "data": {
            "text/plain": [
              "110661"
            ]
          },
          "execution_count": 49,
          "metadata": {
            "tags": []
          },
          "output_type": "execute_result"
        }
      ]
    },
    {
      "cell_type": "code",
      "metadata": {
        "colab": {
          "base_uri": "https://localhost:8080/"
        },
        "id": "0pamvGMHsCjw",
        "outputId": "dbe1a4d0-84b1-4363-a6e7-9fe16f833cdd"
      },
      "source": [
        "print(x_train.shape)"
      ],
      "execution_count": null,
      "outputs": [
        {
          "name": "stdout",
          "output_type": "stream",
          "text": [
            "(35918, 93519)\n"
          ]
        }
      ]
    },
    {
      "cell_type": "markdown",
      "metadata": {
        "id": "4Z08CC7Nq0Og"
      },
      "source": [
        "###logistic regression"
      ]
    },
    {
      "cell_type": "code",
      "metadata": {
        "colab": {
          "base_uri": "https://localhost:8080/"
        },
        "id": "bNv_lWWI3j25",
        "outputId": "8feb67f6-987c-4d66-9843-d57c31bda988"
      },
      "source": [
        "logreg = LogisticRegression()\n",
        "logreg.fit(x_train, y_train)\n",
        "y_pred1=logreg.predict(x_test)\n",
        "Accuracy_logreg = logreg.score(x_test, y_test)\n",
        "\n",
        "print(Accuracy_logreg*100)"
      ],
      "execution_count": null,
      "outputs": [
        {
          "name": "stdout",
          "output_type": "stream",
          "text": [
            "98.46325167037861\n"
          ]
        }
      ]
    },
    {
      "cell_type": "code",
      "metadata": {
        "id": "_HU5ez1dg3iT"
      },
      "source": [
        "cm= confusion_matrix(y_test,y_pred1)  "
      ],
      "execution_count": null,
      "outputs": []
    },
    {
      "cell_type": "code",
      "metadata": {
        "colab": {
          "base_uri": "https://localhost:8080/"
        },
        "id": "GjCh4SACmYVN",
        "outputId": "6a591362-790c-4cdb-fec5-0e9c77989d4e"
      },
      "source": [
        "cm"
      ],
      "execution_count": null,
      "outputs": [
        {
          "data": {
            "text/plain": [
              "array([[4604,   89],\n",
              "       [  49, 4238]])"
            ]
          },
          "execution_count": 68,
          "metadata": {
            "tags": []
          },
          "output_type": "execute_result"
        }
      ]
    },
    {
      "cell_type": "code",
      "metadata": {
        "colab": {
          "base_uri": "https://localhost:8080/",
          "height": 297
        },
        "id": "VO9DW29nj5sn",
        "outputId": "6f3a70ee-655b-4c64-a3fc-973ee9a234db"
      },
      "source": [
        "metrics.plot_confusion_matrix(logreg,x_test,y_test,display_labels=['Fake','Real'])"
      ],
      "execution_count": null,
      "outputs": [
        {
          "data": {
            "text/plain": [
              "<sklearn.metrics._plot.confusion_matrix.ConfusionMatrixDisplay at 0x7f574852fa50>"
            ]
          },
          "execution_count": 91,
          "metadata": {
            "tags": []
          },
          "output_type": "execute_result"
        },
        {
          "data": {
            "image/png": "[encoded data removed]",
            "text/plain": [
              "<Figure size 432x288 with 2 Axes>"
            ]
          },
          "metadata": {
            "needs_background": "light",
            "tags": []
          },
          "output_type": "display_data"
        }
      ]
    },
    {
      "cell_type": "code",
      "metadata": {
        "colab": {
          "base_uri": "https://localhost:8080/"
        },
        "id": "H9REFLkBqWi7",
        "outputId": "23e6e310-7c39-4f7a-e5f4-46d50b7acb99"
      },
      "source": [
        "print(classification_report(y_test,y_pred1))"
      ],
      "execution_count": null,
      "outputs": [
        {
          "name": "stdout",
          "output_type": "stream",
          "text": [
            "              precision    recall  f1-score   support\n",
            "\n",
            "           0       0.99      0.98      0.99      4693\n",
            "           1       0.98      0.99      0.98      4287\n",
            "\n",
            "    accuracy                           0.98      8980\n",
            "   macro avg       0.98      0.98      0.98      8980\n",
            "weighted avg       0.98      0.98      0.98      8980\n",
            "\n"
          ]
        }
      ]
    },
    {
      "cell_type": "markdown",
      "metadata": {
        "id": "uGORCG4oq5k5"
      },
      "source": [
        "### Decision Tree"
      ]
    },
    {
      "cell_type": "code",
      "metadata": {
        "colab": {
          "base_uri": "https://localhost:8080/"
        },
        "id": "GysJ_8HQ3113",
        "outputId": "b0f611a7-8f03-4644-991b-3ebcc7161e20"
      },
      "source": [
        "clf = DecisionTreeClassifier()\n",
        "clf.fit(x_train, y_train)\n",
        "y_pred2=clf.predict(x_test)\n",
        "Accuracy_clf = clf.score(x_test, y_test)\n",
        "\n",
        "print(Accuracy_clf*100)"
      ],
      "execution_count": null,
      "outputs": [
        {
          "name": "stdout",
          "output_type": "stream",
          "text": [
            "99.57683741648107\n"
          ]
        }
      ]
    },
    {
      "cell_type": "code",
      "metadata": {
        "colab": {
          "base_uri": "https://localhost:8080/"
        },
        "id": "dSqPFiS0nu7h",
        "outputId": "f4e05949-3e74-403c-92f1-9ce7f1df70c0"
      },
      "source": [
        "cm= confusion_matrix(y_test,y_pred2) \n",
        "cm"
      ],
      "execution_count": null,
      "outputs": [
        {
          "data": {
            "text/plain": [
              "array([[4675,   18],\n",
              "       [  20, 4267]])"
            ]
          },
          "execution_count": 73,
          "metadata": {
            "tags": []
          },
          "output_type": "execute_result"
        }
      ]
    },
    {
      "cell_type": "code",
      "metadata": {
        "colab": {
          "base_uri": "https://localhost:8080/",
          "height": 297
        },
        "id": "igUmT-B8nhBY",
        "outputId": "3db718b0-e6b2-4694-8cd5-c7689d1b9619"
      },
      "source": [
        "metrics.plot_confusion_matrix(clf,x_test,y_test,display_labels=['Fake','Real'])"
      ],
      "execution_count": null,
      "outputs": [
        {
          "data": {
            "text/plain": [
              "<sklearn.metrics._plot.confusion_matrix.ConfusionMatrixDisplay at 0x7f57485b0790>"
            ]
          },
          "execution_count": 90,
          "metadata": {
            "tags": []
          },
          "output_type": "execute_result"
        },
        {
          "data": {
            "image/png": "[encoded data removed]",
            "text/plain": [
              "<Figure size 432x288 with 2 Axes>"
            ]
          },
          "metadata": {
            "needs_background": "light",
            "tags": []
          },
          "output_type": "display_data"
        }
      ]
    },
    {
      "cell_type": "code",
      "metadata": {
        "colab": {
          "base_uri": "https://localhost:8080/"
        },
        "id": "snS125teqnKN",
        "outputId": "05af8ad5-975c-4152-fa57-e408330d1dc9"
      },
      "source": [
        "print(classification_report(y_test,y_pred2))"
      ],
      "execution_count": null,
      "outputs": [
        {
          "name": "stdout",
          "output_type": "stream",
          "text": [
            "              precision    recall  f1-score   support\n",
            "\n",
            "           0       1.00      1.00      1.00      4693\n",
            "           1       1.00      1.00      1.00      4287\n",
            "\n",
            "    accuracy                           1.00      8980\n",
            "   macro avg       1.00      1.00      1.00      8980\n",
            "weighted avg       1.00      1.00      1.00      8980\n",
            "\n"
          ]
        }
      ]
    },
    {
      "cell_type": "markdown",
      "metadata": {
        "id": "QxggRrXlq_qF"
      },
      "source": [
        "### Naive bayes"
      ]
    },
    {
      "cell_type": "code",
      "metadata": {
        "colab": {
          "base_uri": "https://localhost:8080/"
        },
        "id": "NvrkieEM4rxW",
        "outputId": "06dd98e6-8fa7-4939-b4b1-ef62d916eac9"
      },
      "source": [
        "from sklearn.naive_bayes import MultinomialNB\n",
        "\n",
        "\n",
        "NB = MultinomialNB()\n",
        "NB.fit(x_train, y_train)\n",
        "y_pred3=NB.predict(x_test)\n",
        "Accuracy_NB = NB.score(x_test, y_test)\n",
        "\n",
        "print(Accuracy*100)"
      ],
      "execution_count": null,
      "outputs": [
        {
          "name": "stdout",
          "output_type": "stream",
          "text": [
            "93.00668151447663\n"
          ]
        }
      ]
    },
    {
      "cell_type": "code",
      "metadata": {
        "colab": {
          "base_uri": "https://localhost:8080/"
        },
        "id": "ZH6L3FrkpEd9",
        "outputId": "b043130e-103e-4541-da36-093f268281fd"
      },
      "source": [
        "cm= confusion_matrix(y_test,y_pred3)\n",
        "cm "
      ],
      "execution_count": null,
      "outputs": [
        {
          "data": {
            "text/plain": [
              "array([[4414,  279],\n",
              "       [ 349, 3938]])"
            ]
          },
          "execution_count": 78,
          "metadata": {
            "tags": []
          },
          "output_type": "execute_result"
        }
      ]
    },
    {
      "cell_type": "code",
      "metadata": {
        "colab": {
          "base_uri": "https://localhost:8080/",
          "height": 297
        },
        "id": "4dw5KHYroHUB",
        "outputId": "67384dc3-7c61-4c0c-8ce8-559c0308cae5"
      },
      "source": [
        "metrics.plot_confusion_matrix(NB,x_test,y_test,display_labels=['Fake','Real'])"
      ],
      "execution_count": null,
      "outputs": [
        {
          "data": {
            "text/plain": [
              "<sklearn.metrics._plot.confusion_matrix.ConfusionMatrixDisplay at 0x7f574861b1d0>"
            ]
          },
          "execution_count": 89,
          "metadata": {
            "tags": []
          },
          "output_type": "execute_result"
        },
        {
          "data": {
            "image/png": "[encoded data removed]",
            "text/plain": [
              "<Figure size 432x288 with 2 Axes>"
            ]
          },
          "metadata": {
            "needs_background": "light",
            "tags": []
          },
          "output_type": "display_data"
        }
      ]
    },
    {
      "cell_type": "code",
      "metadata": {
        "colab": {
          "base_uri": "https://localhost:8080/"
        },
        "id": "kQofu2kerDvs",
        "outputId": "eb913027-f67b-454a-9d7d-0ddfe066e8a7"
      },
      "source": [
        "print(classification_report(y_test,y_pred3))"
      ],
      "execution_count": null,
      "outputs": [
        {
          "name": "stdout",
          "output_type": "stream",
          "text": [
            "              precision    recall  f1-score   support\n",
            "\n",
            "           0       0.93      0.94      0.93      4693\n",
            "           1       0.93      0.92      0.93      4287\n",
            "\n",
            "    accuracy                           0.93      8980\n",
            "   macro avg       0.93      0.93      0.93      8980\n",
            "weighted avg       0.93      0.93      0.93      8980\n",
            "\n"
          ]
        }
      ]
    },
    {
      "cell_type": "markdown",
      "metadata": {
        "id": "QD2zSDRPrQDv"
      },
      "source": [
        "### PAC"
      ]
    },
    {
      "cell_type": "code",
      "metadata": {
        "colab": {
          "base_uri": "https://localhost:8080/"
        },
        "id": "Xqg1aJRicufh",
        "outputId": "b20a5a74-dc52-4881-e1ec-70c056876af1"
      },
      "source": [
        "from sklearn.linear_model import PassiveAggressiveClassifier\n",
        "pac=PassiveAggressiveClassifier(max_iter=50) \n",
        "pac.fit(x_train,y_train) \n",
        "#Predict on the test set and calculate accuracy \n",
        "y_pred4=pac.predict(x_test) \n",
        "score=accuracy_score(y_test,y_pred4)  \n",
        "print(f'Accuracy: {round(score*100,2)}%')"
      ],
      "execution_count": null,
      "outputs": [
        {
          "name": "stdout",
          "output_type": "stream",
          "text": [
            "Accuracy: 99.31%\n"
          ]
        }
      ]
    },
    {
      "cell_type": "code",
      "metadata": {
        "colab": {
          "base_uri": "https://localhost:8080/"
        },
        "id": "D3xGSs7kphm0",
        "outputId": "2c182972-dc3c-4031-fb59-73dd2d940e5f"
      },
      "source": [
        "cm= confusion_matrix(y_test,y_pred4) \n",
        "cm"
      ],
      "execution_count": null,
      "outputs": [
        {
          "data": {
            "text/plain": [
              "array([[4654,   39],\n",
              "       [  23, 4264]])"
            ]
          },
          "execution_count": 82,
          "metadata": {
            "tags": []
          },
          "output_type": "execute_result"
        }
      ]
    },
    {
      "cell_type": "code",
      "metadata": {
        "colab": {
          "base_uri": "https://localhost:8080/",
          "height": 297
        },
        "id": "DitW1abJpUyo",
        "outputId": "000a4ab2-7125-4f16-dd54-cfac494ef6b0"
      },
      "source": [
        "metrics.plot_confusion_matrix(pac,x_test,y_test,display_labels=['Fake','Real'])"
      ],
      "execution_count": null,
      "outputs": [
        {
          "data": {
            "text/plain": [
              "<sklearn.metrics._plot.confusion_matrix.ConfusionMatrixDisplay at 0x7f57486d8d10>"
            ]
          },
          "execution_count": 88,
          "metadata": {
            "tags": []
          },
          "output_type": "execute_result"
        },
        {
          "data": {
            "image/png": "[encoded data removed]",
            "text/plain": [
              "<Figure size 432x288 with 2 Axes>"
            ]
          },
          "metadata": {
            "needs_background": "light",
            "tags": []
          },
          "output_type": "display_data"
        }
      ]
    },
    {
      "cell_type": "code",
      "metadata": {
        "colab": {
          "base_uri": "https://localhost:8080/"
        },
        "id": "WmQYBcN_rX1E",
        "outputId": "15a9326c-0162-4d23-e52a-f792ac7e2199"
      },
      "source": [
        "print(classification_report(y_test,y_pred4))"
      ],
      "execution_count": null,
      "outputs": [
        {
          "name": "stdout",
          "output_type": "stream",
          "text": [
            "              precision    recall  f1-score   support\n",
            "\n",
            "           0       1.00      0.99      0.99      4693\n",
            "           1       0.99      0.99      0.99      4287\n",
            "\n",
            "    accuracy                           0.99      8980\n",
            "   macro avg       0.99      0.99      0.99      8980\n",
            "weighted avg       0.99      0.99      0.99      8980\n",
            "\n"
          ]
        }
      ]
    },
    {
      "cell_type": "markdown",
      "metadata": {
        "id": "WiVQCYPDsMz-"
      },
      "source": [
        "#KAGGLE"
      ]
    },
    {
      "cell_type": "code",
      "metadata": {
        "colab": {
          "base_uri": "https://localhost:8080/",
          "height": 415
        },
        "id": "nDAhLB24dyAT",
        "outputId": "fcd74f5d-e937-4ecb-c5b4-4c601447f458"
      },
      "source": [
        "trainkagg=pd.read_csv('/content/drive/My Drive/fake news/train.csv')\n",
        "trainkagg"
      ],
      "execution_count": null,
      "outputs": [
        {
          "data": {
            "text/html": [
              "<div>\n",
              "<style scoped>\n",
              "    .dataframe tbody tr th:only-of-type {\n",
              "        vertical-align: middle;\n",
              "    }\n",
              "\n",
              "    .dataframe tbody tr th {\n",
              "        vertical-align: top;\n",
              "    }\n",
              "\n",
              "    .dataframe thead th {\n",
              "        text-align: right;\n",
              "    }\n",
              "</style>\n",
              "<table border=\"1\" class=\"dataframe\">\n",
              "  <thead>\n",
              "    <tr style=\"text-align: right;\">\n",
              "      <th></th>\n",
              "      <th>id</th>\n",
              "      <th>title</th>\n",
              "      <th>author</th>\n",
              "      <th>text</th>\n",
              "      <th>label</th>\n",
              "    </tr>\n",
              "  </thead>\n",
              "  <tbody>\n",
              "    <tr>\n",
              "      <th>0</th>\n",
              "      <td>0</td>\n",
              "      <td>House Dem Aide: We Didn’t Even See Comey’s Let...</td>\n",
              "      <td>Darrell Lucus</td>\n",
              "      <td>House Dem Aide: We Didn’t Even See Comey’s Let...</td>\n",
              "      <td>1</td>\n",
              "    </tr>\n",
              "    <tr>\n",
              "      <th>1</th>\n",
              "      <td>1</td>\n",
              "      <td>FLYNN: Hillary Clinton, Big Woman on Campus - ...</td>\n",
              "      <td>Daniel J. Flynn</td>\n",
              "      <td>Ever get the feeling your life circles the rou...</td>\n",
              "      <td>0</td>\n",
              "    </tr>\n",
              "    <tr>\n",
              "      <th>2</th>\n",
              "      <td>2</td>\n",
              "      <td>Why the Truth Might Get You Fired</td>\n",
              "      <td>Consortiumnews.com</td>\n",
              "      <td>Why the Truth Might Get You Fired October 29, ...</td>\n",
              "      <td>1</td>\n",
              "    </tr>\n",
              "    <tr>\n",
              "      <th>3</th>\n",
              "      <td>3</td>\n",
              "      <td>15 Civilians Killed In Single US Airstrike Hav...</td>\n",
              "      <td>Jessica Purkiss</td>\n",
              "      <td>Videos 15 Civilians Killed In Single US Airstr...</td>\n",
              "      <td>1</td>\n",
              "    </tr>\n",
              "    <tr>\n",
              "      <th>4</th>\n",
              "      <td>4</td>\n",
              "      <td>Iranian woman jailed for fictional unpublished...</td>\n",
              "      <td>Howard Portnoy</td>\n",
              "      <td>Print \\nAn Iranian woman has been sentenced to...</td>\n",
              "      <td>1</td>\n",
              "    </tr>\n",
              "    <tr>\n",
              "      <th>...</th>\n",
              "      <td>...</td>\n",
              "      <td>...</td>\n",
              "      <td>...</td>\n",
              "      <td>...</td>\n",
              "      <td>...</td>\n",
              "    </tr>\n",
              "    <tr>\n",
              "      <th>20795</th>\n",
              "      <td>20795</td>\n",
              "      <td>Rapper T.I.: Trump a ’Poster Child For White S...</td>\n",
              "      <td>Jerome Hudson</td>\n",
              "      <td>Rapper T. I. unloaded on black celebrities who...</td>\n",
              "      <td>0</td>\n",
              "    </tr>\n",
              "    <tr>\n",
              "      <th>20796</th>\n",
              "      <td>20796</td>\n",
              "      <td>N.F.L. Playoffs: Schedule, Matchups and Odds -...</td>\n",
              "      <td>Benjamin Hoffman</td>\n",
              "      <td>When the Green Bay Packers lost to the Washing...</td>\n",
              "      <td>0</td>\n",
              "    </tr>\n",
              "    <tr>\n",
              "      <th>20797</th>\n",
              "      <td>20797</td>\n",
              "      <td>Macy’s Is Said to Receive Takeover Approach by...</td>\n",
              "      <td>Michael J. de la Merced and Rachel Abrams</td>\n",
              "      <td>The Macy’s of today grew from the union of sev...</td>\n",
              "      <td>0</td>\n",
              "    </tr>\n",
              "    <tr>\n",
              "      <th>20798</th>\n",
              "      <td>20798</td>\n",
              "      <td>NATO, Russia To Hold Parallel Exercises In Bal...</td>\n",
              "      <td>Alex Ansary</td>\n",
              "      <td>NATO, Russia To Hold Parallel Exercises In Bal...</td>\n",
              "      <td>1</td>\n",
              "    </tr>\n",
              "    <tr>\n",
              "      <th>20799</th>\n",
              "      <td>20799</td>\n",
              "      <td>What Keeps the F-35 Alive</td>\n",
              "      <td>David Swanson</td>\n",
              "      <td>David Swanson is an author, activist, journa...</td>\n",
              "      <td>1</td>\n",
              "    </tr>\n",
              "  </tbody>\n",
              "</table>\n",
              "<p>20800 rows × 5 columns</p>\n",
              "</div>"
            ],
            "text/plain": [
              "          id  ... label\n",
              "0          0  ...     1\n",
              "1          1  ...     0\n",
              "2          2  ...     1\n",
              "3          3  ...     1\n",
              "4          4  ...     1\n",
              "...      ...  ...   ...\n",
              "20795  20795  ...     0\n",
              "20796  20796  ...     0\n",
              "20797  20797  ...     0\n",
              "20798  20798  ...     1\n",
              "20799  20799  ...     1\n",
              "\n",
              "[20800 rows x 5 columns]"
            ]
          },
          "execution_count": 46,
          "metadata": {
            "tags": []
          },
          "output_type": "execute_result"
        }
      ]
    },
    {
      "cell_type": "code",
      "metadata": {
        "colab": {
          "base_uri": "https://localhost:8080/"
        },
        "id": "AN-aPDBTjZiv",
        "outputId": "91620d73-9352-45c9-b0c0-043704548657"
      },
      "source": [
        "trainkagg.isnull().sum()"
      ],
      "execution_count": null,
      "outputs": [
        {
          "data": {
            "text/plain": [
              "id           0\n",
              "title      558\n",
              "author    1957\n",
              "text        39\n",
              "label        0\n",
              "dtype: int64"
            ]
          },
          "execution_count": 47,
          "metadata": {
            "tags": []
          },
          "output_type": "execute_result"
        }
      ]
    },
    {
      "cell_type": "code",
      "metadata": {
        "colab": {
          "base_uri": "https://localhost:8080/"
        },
        "id": "yHlcRTcfjoF1",
        "outputId": "2c30c1ec-631f-4fea-9ad1-277353e64e12"
      },
      "source": [
        "trainkagg=trainkagg.dropna()\n",
        "trainkagg.isnull().sum()"
      ],
      "execution_count": null,
      "outputs": [
        {
          "data": {
            "text/plain": [
              "id        0\n",
              "title     0\n",
              "author    0\n",
              "text      0\n",
              "label     0\n",
              "dtype: int64"
            ]
          },
          "execution_count": 48,
          "metadata": {
            "tags": []
          },
          "output_type": "execute_result"
        }
      ]
    },
    {
      "cell_type": "code",
      "metadata": {
        "colab": {
          "base_uri": "https://localhost:8080/"
        },
        "id": "TuXWPNIzkSY9",
        "outputId": "9df95b73-aa7a-4d39-db64-3f3a4fd2d0c8"
      },
      "source": [
        "trainkagg.shape"
      ],
      "execution_count": null,
      "outputs": [
        {
          "data": {
            "text/plain": [
              "(18285, 5)"
            ]
          },
          "execution_count": 49,
          "metadata": {
            "tags": []
          },
          "output_type": "execute_result"
        }
      ]
    },
    {
      "cell_type": "code",
      "metadata": {
        "colab": {
          "base_uri": "https://localhost:8080/"
        },
        "id": "6abaBKhDuKw-",
        "outputId": "0a276d7d-a04b-4272-9f25-2619b5bae1b2"
      },
      "source": [
        "trainkagg['preprocessed']=trainkagg['text'].apply(preprocess)"
      ],
      "execution_count": null,
      "outputs": [
        {
          "name": "stderr",
          "output_type": "stream",
          "text": [
            "/usr/local/lib/python3.7/dist-packages/ipykernel_launcher.py:1: SettingWithCopyWarning:\n",
            "\n",
            "\n",
            "A value is trying to be set on a copy of a slice from a DataFrame.\n",
            "Try using .loc[row_indexer,col_indexer] = value instead\n",
            "\n",
            "See the caveats in the documentation: https://pandas.pydata.org/pandas-docs/stable/user_guide/indexing.html#returning-a-view-versus-a-copy\n",
            "\n"
          ]
        }
      ]
    },
    {
      "cell_type": "code",
      "metadata": {
        "colab": {
          "base_uri": "https://localhost:8080/",
          "height": 589
        },
        "id": "rfz7uaadvC3l",
        "outputId": "7e7d44b6-9251-4edf-bd4c-b3ca95a95acf"
      },
      "source": [
        "trainkagg"
      ],
      "execution_count": null,
      "outputs": [
        {
          "data": {
            "text/html": [
              "<div>\n",
              "<style scoped>\n",
              "    .dataframe tbody tr th:only-of-type {\n",
              "        vertical-align: middle;\n",
              "    }\n",
              "\n",
              "    .dataframe tbody tr th {\n",
              "        vertical-align: top;\n",
              "    }\n",
              "\n",
              "    .dataframe thead th {\n",
              "        text-align: right;\n",
              "    }\n",
              "</style>\n",
              "<table border=\"1\" class=\"dataframe\">\n",
              "  <thead>\n",
              "    <tr style=\"text-align: right;\">\n",
              "      <th></th>\n",
              "      <th>id</th>\n",
              "      <th>title</th>\n",
              "      <th>author</th>\n",
              "      <th>text</th>\n",
              "      <th>label</th>\n",
              "      <th>preprocessed</th>\n",
              "    </tr>\n",
              "  </thead>\n",
              "  <tbody>\n",
              "    <tr>\n",
              "      <th>0</th>\n",
              "      <td>0</td>\n",
              "      <td>House Dem Aide: We Didn’t Even See Comey’s Let...</td>\n",
              "      <td>Darrell Lucus</td>\n",
              "      <td>House Dem Aide: We Didn’t Even See Comey’s Let...</td>\n",
              "      <td>1</td>\n",
              "      <td>[house, dem, aide, comey, letter, jason, chaff...</td>\n",
              "    </tr>\n",
              "    <tr>\n",
              "      <th>1</th>\n",
              "      <td>1</td>\n",
              "      <td>FLYNN: Hillary Clinton, Big Woman on Campus - ...</td>\n",
              "      <td>Daniel J. Flynn</td>\n",
              "      <td>Ever get the feeling your life circles the rou...</td>\n",
              "      <td>0</td>\n",
              "      <td>[feeling, life, circles, roundabout, heads, st...</td>\n",
              "    </tr>\n",
              "    <tr>\n",
              "      <th>2</th>\n",
              "      <td>2</td>\n",
              "      <td>Why the Truth Might Get You Fired</td>\n",
              "      <td>Consortiumnews.com</td>\n",
              "      <td>Why the Truth Might Get You Fired October 29, ...</td>\n",
              "      <td>1</td>\n",
              "      <td>[truth, fired, october, tension, intelligence,...</td>\n",
              "    </tr>\n",
              "    <tr>\n",
              "      <th>3</th>\n",
              "      <td>3</td>\n",
              "      <td>15 Civilians Killed In Single US Airstrike Hav...</td>\n",
              "      <td>Jessica Purkiss</td>\n",
              "      <td>Videos 15 Civilians Killed In Single US Airstr...</td>\n",
              "      <td>1</td>\n",
              "      <td>[videos, civilians, killed, single, airstrike,...</td>\n",
              "    </tr>\n",
              "    <tr>\n",
              "      <th>4</th>\n",
              "      <td>4</td>\n",
              "      <td>Iranian woman jailed for fictional unpublished...</td>\n",
              "      <td>Howard Portnoy</td>\n",
              "      <td>Print \\nAn Iranian woman has been sentenced to...</td>\n",
              "      <td>1</td>\n",
              "      <td>[print, iranian, woman, sentenced, years, pris...</td>\n",
              "    </tr>\n",
              "    <tr>\n",
              "      <th>...</th>\n",
              "      <td>...</td>\n",
              "      <td>...</td>\n",
              "      <td>...</td>\n",
              "      <td>...</td>\n",
              "      <td>...</td>\n",
              "      <td>...</td>\n",
              "    </tr>\n",
              "    <tr>\n",
              "      <th>20795</th>\n",
              "      <td>20795</td>\n",
              "      <td>Rapper T.I.: Trump a ’Poster Child For White S...</td>\n",
              "      <td>Jerome Hudson</td>\n",
              "      <td>Rapper T. I. unloaded on black celebrities who...</td>\n",
              "      <td>0</td>\n",
              "      <td>[rapper, unloaded, black, celebrities, met, do...</td>\n",
              "    </tr>\n",
              "    <tr>\n",
              "      <th>20796</th>\n",
              "      <td>20796</td>\n",
              "      <td>N.F.L. Playoffs: Schedule, Matchups and Odds -...</td>\n",
              "      <td>Benjamin Hoffman</td>\n",
              "      <td>When the Green Bay Packers lost to the Washing...</td>\n",
              "      <td>0</td>\n",
              "      <td>[green, bay, packers, lost, washington, redski...</td>\n",
              "    </tr>\n",
              "    <tr>\n",
              "      <th>20797</th>\n",
              "      <td>20797</td>\n",
              "      <td>Macy’s Is Said to Receive Takeover Approach by...</td>\n",
              "      <td>Michael J. de la Merced and Rachel Abrams</td>\n",
              "      <td>The Macy’s of today grew from the union of sev...</td>\n",
              "      <td>0</td>\n",
              "      <td>[macy, today, grew, union, great, names, ameri...</td>\n",
              "    </tr>\n",
              "    <tr>\n",
              "      <th>20798</th>\n",
              "      <td>20798</td>\n",
              "      <td>NATO, Russia To Hold Parallel Exercises In Bal...</td>\n",
              "      <td>Alex Ansary</td>\n",
              "      <td>NATO, Russia To Hold Parallel Exercises In Bal...</td>\n",
              "      <td>1</td>\n",
              "      <td>[nato, russia, hold, parallel, exercises, balk...</td>\n",
              "    </tr>\n",
              "    <tr>\n",
              "      <th>20799</th>\n",
              "      <td>20799</td>\n",
              "      <td>What Keeps the F-35 Alive</td>\n",
              "      <td>David Swanson</td>\n",
              "      <td>David Swanson is an author, activist, journa...</td>\n",
              "      <td>1</td>\n",
              "      <td>[david, swanson, author, activist, journalist,...</td>\n",
              "    </tr>\n",
              "  </tbody>\n",
              "</table>\n",
              "<p>18285 rows × 6 columns</p>\n",
              "</div>"
            ],
            "text/plain": [
              "          id  ...                                       preprocessed\n",
              "0          0  ...  [house, dem, aide, comey, letter, jason, chaff...\n",
              "1          1  ...  [feeling, life, circles, roundabout, heads, st...\n",
              "2          2  ...  [truth, fired, october, tension, intelligence,...\n",
              "3          3  ...  [videos, civilians, killed, single, airstrike,...\n",
              "4          4  ...  [print, iranian, woman, sentenced, years, pris...\n",
              "...      ...  ...                                                ...\n",
              "20795  20795  ...  [rapper, unloaded, black, celebrities, met, do...\n",
              "20796  20796  ...  [green, bay, packers, lost, washington, redski...\n",
              "20797  20797  ...  [macy, today, grew, union, great, names, ameri...\n",
              "20798  20798  ...  [nato, russia, hold, parallel, exercises, balk...\n",
              "20799  20799  ...  [david, swanson, author, activist, journalist,...\n",
              "\n",
              "[18285 rows x 6 columns]"
            ]
          },
          "execution_count": 51,
          "metadata": {
            "tags": []
          },
          "output_type": "execute_result"
        }
      ]
    },
    {
      "cell_type": "code",
      "metadata": {
        "colab": {
          "base_uri": "https://localhost:8080/"
        },
        "id": "QJiNOVxMvHZ9",
        "outputId": "5da5be67-a88c-448a-e43e-67af0571c281"
      },
      "source": [
        "trainkagg['text']=trainkagg['preprocessed'].apply(lambda x: \" \".join(x))"
      ],
      "execution_count": null,
      "outputs": [
        {
          "name": "stderr",
          "output_type": "stream",
          "text": [
            "/usr/local/lib/python3.7/dist-packages/ipykernel_launcher.py:1: SettingWithCopyWarning:\n",
            "\n",
            "\n",
            "A value is trying to be set on a copy of a slice from a DataFrame.\n",
            "Try using .loc[row_indexer,col_indexer] = value instead\n",
            "\n",
            "See the caveats in the documentation: https://pandas.pydata.org/pandas-docs/stable/user_guide/indexing.html#returning-a-view-versus-a-copy\n",
            "\n"
          ]
        }
      ]
    },
    {
      "cell_type": "code",
      "metadata": {
        "colab": {
          "base_uri": "https://localhost:8080/",
          "height": 529
        },
        "id": "Y2pM5uaSv-Np",
        "outputId": "ac1770ff-07be-4345-ded6-a9791a53ac5e"
      },
      "source": [
        "trainkagg.head(10)"
      ],
      "execution_count": null,
      "outputs": [
        {
          "data": {
            "text/html": [
              "<div>\n",
              "<style scoped>\n",
              "    .dataframe tbody tr th:only-of-type {\n",
              "        vertical-align: middle;\n",
              "    }\n",
              "\n",
              "    .dataframe tbody tr th {\n",
              "        vertical-align: top;\n",
              "    }\n",
              "\n",
              "    .dataframe thead th {\n",
              "        text-align: right;\n",
              "    }\n",
              "</style>\n",
              "<table border=\"1\" class=\"dataframe\">\n",
              "  <thead>\n",
              "    <tr style=\"text-align: right;\">\n",
              "      <th></th>\n",
              "      <th>id</th>\n",
              "      <th>title</th>\n",
              "      <th>author</th>\n",
              "      <th>text</th>\n",
              "      <th>label</th>\n",
              "      <th>preprocessed</th>\n",
              "    </tr>\n",
              "  </thead>\n",
              "  <tbody>\n",
              "    <tr>\n",
              "      <th>0</th>\n",
              "      <td>0</td>\n",
              "      <td>House Dem Aide: We Didn’t Even See Comey’s Let...</td>\n",
              "      <td>Darrell Lucus</td>\n",
              "      <td>house dem aide comey letter jason chaffetz twe...</td>\n",
              "      <td>1</td>\n",
              "      <td>[house, dem, aide, comey, letter, jason, chaff...</td>\n",
              "    </tr>\n",
              "    <tr>\n",
              "      <th>1</th>\n",
              "      <td>1</td>\n",
              "      <td>FLYNN: Hillary Clinton, Big Woman on Campus - ...</td>\n",
              "      <td>Daniel J. Flynn</td>\n",
              "      <td>feeling life circles roundabout heads straight...</td>\n",
              "      <td>0</td>\n",
              "      <td>[feeling, life, circles, roundabout, heads, st...</td>\n",
              "    </tr>\n",
              "    <tr>\n",
              "      <th>2</th>\n",
              "      <td>2</td>\n",
              "      <td>Why the Truth Might Get You Fired</td>\n",
              "      <td>Consortiumnews.com</td>\n",
              "      <td>truth fired october tension intelligence analy...</td>\n",
              "      <td>1</td>\n",
              "      <td>[truth, fired, october, tension, intelligence,...</td>\n",
              "    </tr>\n",
              "    <tr>\n",
              "      <th>3</th>\n",
              "      <td>3</td>\n",
              "      <td>15 Civilians Killed In Single US Airstrike Hav...</td>\n",
              "      <td>Jessica Purkiss</td>\n",
              "      <td>videos civilians killed single airstrike ident...</td>\n",
              "      <td>1</td>\n",
              "      <td>[videos, civilians, killed, single, airstrike,...</td>\n",
              "    </tr>\n",
              "    <tr>\n",
              "      <th>4</th>\n",
              "      <td>4</td>\n",
              "      <td>Iranian woman jailed for fictional unpublished...</td>\n",
              "      <td>Howard Portnoy</td>\n",
              "      <td>print iranian woman sentenced years prison ira...</td>\n",
              "      <td>1</td>\n",
              "      <td>[print, iranian, woman, sentenced, years, pris...</td>\n",
              "    </tr>\n",
              "    <tr>\n",
              "      <th>5</th>\n",
              "      <td>5</td>\n",
              "      <td>Jackie Mason: Hollywood Would Love Trump if He...</td>\n",
              "      <td>Daniel Nussbaum</td>\n",
              "      <td>trying times jackie mason voice reason week ex...</td>\n",
              "      <td>0</td>\n",
              "      <td>[trying, times, jackie, mason, voice, reason, ...</td>\n",
              "    </tr>\n",
              "    <tr>\n",
              "      <th>7</th>\n",
              "      <td>7</td>\n",
              "      <td>Benoît Hamon Wins French Socialist Party’s Pre...</td>\n",
              "      <td>Alissa J. Rubin</td>\n",
              "      <td>paris france chose idealistic traditional cand...</td>\n",
              "      <td>0</td>\n",
              "      <td>[paris, france, chose, idealistic, traditional...</td>\n",
              "    </tr>\n",
              "    <tr>\n",
              "      <th>9</th>\n",
              "      <td>9</td>\n",
              "      <td>A Back-Channel Plan for Ukraine and Russia, Co...</td>\n",
              "      <td>Megan Twohey and Scott Shane</td>\n",
              "      <td>week michael flynn resigned national security ...</td>\n",
              "      <td>0</td>\n",
              "      <td>[week, michael, flynn, resigned, national, sec...</td>\n",
              "    </tr>\n",
              "    <tr>\n",
              "      <th>10</th>\n",
              "      <td>10</td>\n",
              "      <td>Obama’s Organizing for Action Partners with So...</td>\n",
              "      <td>Aaron Klein</td>\n",
              "      <td>organizing action activist group morphed barac...</td>\n",
              "      <td>0</td>\n",
              "      <td>[organizing, action, activist, group, morphed,...</td>\n",
              "    </tr>\n",
              "    <tr>\n",
              "      <th>11</th>\n",
              "      <td>11</td>\n",
              "      <td>BBC Comedy Sketch \"Real Housewives of ISIS\" Ca...</td>\n",
              "      <td>Chris Tomlinson</td>\n",
              "      <td>bbc produced spoof real housewives tv programm...</td>\n",
              "      <td>0</td>\n",
              "      <td>[bbc, produced, spoof, real, housewives, tv, p...</td>\n",
              "    </tr>\n",
              "  </tbody>\n",
              "</table>\n",
              "</div>"
            ],
            "text/plain": [
              "    id  ...                                       preprocessed\n",
              "0    0  ...  [house, dem, aide, comey, letter, jason, chaff...\n",
              "1    1  ...  [feeling, life, circles, roundabout, heads, st...\n",
              "2    2  ...  [truth, fired, october, tension, intelligence,...\n",
              "3    3  ...  [videos, civilians, killed, single, airstrike,...\n",
              "4    4  ...  [print, iranian, woman, sentenced, years, pris...\n",
              "5    5  ...  [trying, times, jackie, mason, voice, reason, ...\n",
              "7    7  ...  [paris, france, chose, idealistic, traditional...\n",
              "9    9  ...  [week, michael, flynn, resigned, national, sec...\n",
              "10  10  ...  [organizing, action, activist, group, morphed,...\n",
              "11  11  ...  [bbc, produced, spoof, real, housewives, tv, p...\n",
              "\n",
              "[10 rows x 6 columns]"
            ]
          },
          "execution_count": 53,
          "metadata": {
            "tags": []
          },
          "output_type": "execute_result"
        }
      ]
    },
    {
      "cell_type": "code",
      "metadata": {
        "colab": {
          "base_uri": "https://localhost:8080/",
          "height": 727
        },
        "id": "GgC5Z-6KwRFZ",
        "outputId": "f470d776-9249-43e7-ebe2-3a2080f75178"
      },
      "source": [
        "trainkagg['lematized'] = trainkagg['preprocessed'].apply(lambda x: word_lemmatizer(x))\n",
        "trainkagg"
      ],
      "execution_count": null,
      "outputs": [
        {
          "name": "stderr",
          "output_type": "stream",
          "text": [
            "/usr/local/lib/python3.7/dist-packages/ipykernel_launcher.py:1: SettingWithCopyWarning:\n",
            "\n",
            "\n",
            "A value is trying to be set on a copy of a slice from a DataFrame.\n",
            "Try using .loc[row_indexer,col_indexer] = value instead\n",
            "\n",
            "See the caveats in the documentation: https://pandas.pydata.org/pandas-docs/stable/user_guide/indexing.html#returning-a-view-versus-a-copy\n",
            "\n"
          ]
        },
        {
          "data": {
            "text/html": [
              "<div>\n",
              "<style scoped>\n",
              "    .dataframe tbody tr th:only-of-type {\n",
              "        vertical-align: middle;\n",
              "    }\n",
              "\n",
              "    .dataframe tbody tr th {\n",
              "        vertical-align: top;\n",
              "    }\n",
              "\n",
              "    .dataframe thead th {\n",
              "        text-align: right;\n",
              "    }\n",
              "</style>\n",
              "<table border=\"1\" class=\"dataframe\">\n",
              "  <thead>\n",
              "    <tr style=\"text-align: right;\">\n",
              "      <th></th>\n",
              "      <th>id</th>\n",
              "      <th>title</th>\n",
              "      <th>author</th>\n",
              "      <th>text</th>\n",
              "      <th>label</th>\n",
              "      <th>preprocessed</th>\n",
              "      <th>lematized</th>\n",
              "    </tr>\n",
              "  </thead>\n",
              "  <tbody>\n",
              "    <tr>\n",
              "      <th>0</th>\n",
              "      <td>0</td>\n",
              "      <td>House Dem Aide: We Didn’t Even See Comey’s Let...</td>\n",
              "      <td>Darrell Lucus</td>\n",
              "      <td>house dem aide comey letter jason chaffetz twe...</td>\n",
              "      <td>1</td>\n",
              "      <td>[house, dem, aide, comey, letter, jason, chaff...</td>\n",
              "      <td>[house, dem, aide, comey, letter, jason, chaff...</td>\n",
              "    </tr>\n",
              "    <tr>\n",
              "      <th>1</th>\n",
              "      <td>1</td>\n",
              "      <td>FLYNN: Hillary Clinton, Big Woman on Campus - ...</td>\n",
              "      <td>Daniel J. Flynn</td>\n",
              "      <td>feeling life circles roundabout heads straight...</td>\n",
              "      <td>0</td>\n",
              "      <td>[feeling, life, circles, roundabout, heads, st...</td>\n",
              "      <td>[feeling, life, circle, roundabout, head, stra...</td>\n",
              "    </tr>\n",
              "    <tr>\n",
              "      <th>2</th>\n",
              "      <td>2</td>\n",
              "      <td>Why the Truth Might Get You Fired</td>\n",
              "      <td>Consortiumnews.com</td>\n",
              "      <td>truth fired october tension intelligence analy...</td>\n",
              "      <td>1</td>\n",
              "      <td>[truth, fired, october, tension, intelligence,...</td>\n",
              "      <td>[truth, fired, october, tension, intelligence,...</td>\n",
              "    </tr>\n",
              "    <tr>\n",
              "      <th>3</th>\n",
              "      <td>3</td>\n",
              "      <td>15 Civilians Killed In Single US Airstrike Hav...</td>\n",
              "      <td>Jessica Purkiss</td>\n",
              "      <td>videos civilians killed single airstrike ident...</td>\n",
              "      <td>1</td>\n",
              "      <td>[videos, civilians, killed, single, airstrike,...</td>\n",
              "      <td>[video, civilian, killed, single, airstrike, i...</td>\n",
              "    </tr>\n",
              "    <tr>\n",
              "      <th>4</th>\n",
              "      <td>4</td>\n",
              "      <td>Iranian woman jailed for fictional unpublished...</td>\n",
              "      <td>Howard Portnoy</td>\n",
              "      <td>print iranian woman sentenced years prison ira...</td>\n",
              "      <td>1</td>\n",
              "      <td>[print, iranian, woman, sentenced, years, pris...</td>\n",
              "      <td>[print, iranian, woman, sentenced, year, priso...</td>\n",
              "    </tr>\n",
              "    <tr>\n",
              "      <th>...</th>\n",
              "      <td>...</td>\n",
              "      <td>...</td>\n",
              "      <td>...</td>\n",
              "      <td>...</td>\n",
              "      <td>...</td>\n",
              "      <td>...</td>\n",
              "      <td>...</td>\n",
              "    </tr>\n",
              "    <tr>\n",
              "      <th>20795</th>\n",
              "      <td>20795</td>\n",
              "      <td>Rapper T.I.: Trump a ’Poster Child For White S...</td>\n",
              "      <td>Jerome Hudson</td>\n",
              "      <td>rapper unloaded black celebrities met donald t...</td>\n",
              "      <td>0</td>\n",
              "      <td>[rapper, unloaded, black, celebrities, met, do...</td>\n",
              "      <td>[rapper, unloaded, black, celebrity, met, dona...</td>\n",
              "    </tr>\n",
              "    <tr>\n",
              "      <th>20796</th>\n",
              "      <td>20796</td>\n",
              "      <td>N.F.L. Playoffs: Schedule, Matchups and Odds -...</td>\n",
              "      <td>Benjamin Hoffman</td>\n",
              "      <td>green bay packers lost washington redskins wee...</td>\n",
              "      <td>0</td>\n",
              "      <td>[green, bay, packers, lost, washington, redski...</td>\n",
              "      <td>[green, bay, packer, lost, washington, redskin...</td>\n",
              "    </tr>\n",
              "    <tr>\n",
              "      <th>20797</th>\n",
              "      <td>20797</td>\n",
              "      <td>Macy’s Is Said to Receive Takeover Approach by...</td>\n",
              "      <td>Michael J. de la Merced and Rachel Abrams</td>\n",
              "      <td>macy today grew union great names american ret...</td>\n",
              "      <td>0</td>\n",
              "      <td>[macy, today, grew, union, great, names, ameri...</td>\n",
              "      <td>[macy, today, grew, union, great, name, americ...</td>\n",
              "    </tr>\n",
              "    <tr>\n",
              "      <th>20798</th>\n",
              "      <td>20798</td>\n",
              "      <td>NATO, Russia To Hold Parallel Exercises In Bal...</td>\n",
              "      <td>Alex Ansary</td>\n",
              "      <td>nato russia hold parallel exercises balkans pr...</td>\n",
              "      <td>1</td>\n",
              "      <td>[nato, russia, hold, parallel, exercises, balk...</td>\n",
              "      <td>[nato, russia, hold, parallel, exercise, balka...</td>\n",
              "    </tr>\n",
              "    <tr>\n",
              "      <th>20799</th>\n",
              "      <td>20799</td>\n",
              "      <td>What Keeps the F-35 Alive</td>\n",
              "      <td>David Swanson</td>\n",
              "      <td>david swanson author activist journalist radio...</td>\n",
              "      <td>1</td>\n",
              "      <td>[david, swanson, author, activist, journalist,...</td>\n",
              "      <td>[david, swanson, author, activist, journalist,...</td>\n",
              "    </tr>\n",
              "  </tbody>\n",
              "</table>\n",
              "<p>18285 rows × 7 columns</p>\n",
              "</div>"
            ],
            "text/plain": [
              "          id  ...                                          lematized\n",
              "0          0  ...  [house, dem, aide, comey, letter, jason, chaff...\n",
              "1          1  ...  [feeling, life, circle, roundabout, head, stra...\n",
              "2          2  ...  [truth, fired, october, tension, intelligence,...\n",
              "3          3  ...  [video, civilian, killed, single, airstrike, i...\n",
              "4          4  ...  [print, iranian, woman, sentenced, year, priso...\n",
              "...      ...  ...                                                ...\n",
              "20795  20795  ...  [rapper, unloaded, black, celebrity, met, dona...\n",
              "20796  20796  ...  [green, bay, packer, lost, washington, redskin...\n",
              "20797  20797  ...  [macy, today, grew, union, great, name, americ...\n",
              "20798  20798  ...  [nato, russia, hold, parallel, exercise, balka...\n",
              "20799  20799  ...  [david, swanson, author, activist, journalist,...\n",
              "\n",
              "[18285 rows x 7 columns]"
            ]
          },
          "execution_count": 54,
          "metadata": {
            "tags": []
          },
          "output_type": "execute_result"
        }
      ]
    },
    {
      "cell_type": "code",
      "metadata": {
        "colab": {
          "base_uri": "https://localhost:8080/"
        },
        "id": "qCnHCOsYwq8e",
        "outputId": "36262c00-005c-4472-c345-ae3e48f41ed0"
      },
      "source": [
        "trainkagg['text'] = trainkagg['lematized'].apply(lambda x: \" \".join(x))"
      ],
      "execution_count": null,
      "outputs": [
        {
          "name": "stderr",
          "output_type": "stream",
          "text": [
            "/usr/local/lib/python3.7/dist-packages/ipykernel_launcher.py:1: SettingWithCopyWarning:\n",
            "\n",
            "\n",
            "A value is trying to be set on a copy of a slice from a DataFrame.\n",
            "Try using .loc[row_indexer,col_indexer] = value instead\n",
            "\n",
            "See the caveats in the documentation: https://pandas.pydata.org/pandas-docs/stable/user_guide/indexing.html#returning-a-view-versus-a-copy\n",
            "\n"
          ]
        }
      ]
    },
    {
      "cell_type": "code",
      "metadata": {
        "colab": {
          "base_uri": "https://localhost:8080/"
        },
        "id": "ZoL4lPieBGes",
        "outputId": "284a9b20-6b2c-465f-fe5f-f0d92258ebb4"
      },
      "source": [
        "trainkagg.info()"
      ],
      "execution_count": null,
      "outputs": [
        {
          "name": "stdout",
          "output_type": "stream",
          "text": [
            "<class 'pandas.core.frame.DataFrame'>\n",
            "Int64Index: 18285 entries, 0 to 20799\n",
            "Data columns (total 7 columns):\n",
            " #   Column        Non-Null Count  Dtype \n",
            "---  ------        --------------  ----- \n",
            " 0   id            18285 non-null  int64 \n",
            " 1   title         18285 non-null  object\n",
            " 2   author        18285 non-null  object\n",
            " 3   text          18285 non-null  object\n",
            " 4   label         18285 non-null  int64 \n",
            " 5   preprocessed  18285 non-null  object\n",
            " 6   lematized     18285 non-null  object\n",
            "dtypes: int64(2), object(5)\n",
            "memory usage: 1.1+ MB\n"
          ]
        }
      ]
    },
    {
      "cell_type": "code",
      "metadata": {
        "colab": {
          "base_uri": "https://localhost:8080/"
        },
        "id": "O8RPapV7t7J4",
        "outputId": "7afccf89-8ce0-47aa-f6f1-740b9a827889"
      },
      "source": [
        "trainkagg['label']=trainkagg['label'].apply(lambda x: 1 if x==0 else 0)"
      ],
      "execution_count": null,
      "outputs": [
        {
          "name": "stderr",
          "output_type": "stream",
          "text": [
            "/usr/local/lib/python3.7/dist-packages/ipykernel_launcher.py:1: SettingWithCopyWarning:\n",
            "\n",
            "\n",
            "A value is trying to be set on a copy of a slice from a DataFrame.\n",
            "Try using .loc[row_indexer,col_indexer] = value instead\n",
            "\n",
            "See the caveats in the documentation: https://pandas.pydata.org/pandas-docs/stable/user_guide/indexing.html#returning-a-view-versus-a-copy\n",
            "\n"
          ]
        }
      ]
    },
    {
      "cell_type": "code",
      "metadata": {
        "colab": {
          "base_uri": "https://localhost:8080/",
          "height": 589
        },
        "id": "RlrGXFk8CX4t",
        "outputId": "dc5cd162-4f9f-4963-85cc-6c199b1097bf"
      },
      "source": [
        "trainkagg"
      ],
      "execution_count": null,
      "outputs": [
        {
          "data": {
            "text/html": [
              "<div>\n",
              "<style scoped>\n",
              "    .dataframe tbody tr th:only-of-type {\n",
              "        vertical-align: middle;\n",
              "    }\n",
              "\n",
              "    .dataframe tbody tr th {\n",
              "        vertical-align: top;\n",
              "    }\n",
              "\n",
              "    .dataframe thead th {\n",
              "        text-align: right;\n",
              "    }\n",
              "</style>\n",
              "<table border=\"1\" class=\"dataframe\">\n",
              "  <thead>\n",
              "    <tr style=\"text-align: right;\">\n",
              "      <th></th>\n",
              "      <th>id</th>\n",
              "      <th>title</th>\n",
              "      <th>author</th>\n",
              "      <th>text</th>\n",
              "      <th>label</th>\n",
              "      <th>preprocessed</th>\n",
              "      <th>lematized</th>\n",
              "    </tr>\n",
              "  </thead>\n",
              "  <tbody>\n",
              "    <tr>\n",
              "      <th>0</th>\n",
              "      <td>0</td>\n",
              "      <td>House Dem Aide: We Didn’t Even See Comey’s Let...</td>\n",
              "      <td>Darrell Lucus</td>\n",
              "      <td>house dem aide comey letter jason chaffetz twe...</td>\n",
              "      <td>0</td>\n",
              "      <td>[house, dem, aide, comey, letter, jason, chaff...</td>\n",
              "      <td>[house, dem, aide, comey, letter, jason, chaff...</td>\n",
              "    </tr>\n",
              "    <tr>\n",
              "      <th>1</th>\n",
              "      <td>1</td>\n",
              "      <td>FLYNN: Hillary Clinton, Big Woman on Campus - ...</td>\n",
              "      <td>Daniel J. Flynn</td>\n",
              "      <td>feeling life circle roundabout head straight l...</td>\n",
              "      <td>1</td>\n",
              "      <td>[feeling, life, circles, roundabout, heads, st...</td>\n",
              "      <td>[feeling, life, circle, roundabout, head, stra...</td>\n",
              "    </tr>\n",
              "    <tr>\n",
              "      <th>2</th>\n",
              "      <td>2</td>\n",
              "      <td>Why the Truth Might Get You Fired</td>\n",
              "      <td>Consortiumnews.com</td>\n",
              "      <td>truth fired october tension intelligence analy...</td>\n",
              "      <td>0</td>\n",
              "      <td>[truth, fired, october, tension, intelligence,...</td>\n",
              "      <td>[truth, fired, october, tension, intelligence,...</td>\n",
              "    </tr>\n",
              "    <tr>\n",
              "      <th>3</th>\n",
              "      <td>3</td>\n",
              "      <td>15 Civilians Killed In Single US Airstrike Hav...</td>\n",
              "      <td>Jessica Purkiss</td>\n",
              "      <td>video civilian killed single airstrike identif...</td>\n",
              "      <td>0</td>\n",
              "      <td>[videos, civilians, killed, single, airstrike,...</td>\n",
              "      <td>[video, civilian, killed, single, airstrike, i...</td>\n",
              "    </tr>\n",
              "    <tr>\n",
              "      <th>4</th>\n",
              "      <td>4</td>\n",
              "      <td>Iranian woman jailed for fictional unpublished...</td>\n",
              "      <td>Howard Portnoy</td>\n",
              "      <td>print iranian woman sentenced year prison iran...</td>\n",
              "      <td>0</td>\n",
              "      <td>[print, iranian, woman, sentenced, years, pris...</td>\n",
              "      <td>[print, iranian, woman, sentenced, year, priso...</td>\n",
              "    </tr>\n",
              "    <tr>\n",
              "      <th>...</th>\n",
              "      <td>...</td>\n",
              "      <td>...</td>\n",
              "      <td>...</td>\n",
              "      <td>...</td>\n",
              "      <td>...</td>\n",
              "      <td>...</td>\n",
              "      <td>...</td>\n",
              "    </tr>\n",
              "    <tr>\n",
              "      <th>20795</th>\n",
              "      <td>20795</td>\n",
              "      <td>Rapper T.I.: Trump a ’Poster Child For White S...</td>\n",
              "      <td>Jerome Hudson</td>\n",
              "      <td>rapper unloaded black celebrity met donald tru...</td>\n",
              "      <td>1</td>\n",
              "      <td>[rapper, unloaded, black, celebrities, met, do...</td>\n",
              "      <td>[rapper, unloaded, black, celebrity, met, dona...</td>\n",
              "    </tr>\n",
              "    <tr>\n",
              "      <th>20796</th>\n",
              "      <td>20796</td>\n",
              "      <td>N.F.L. Playoffs: Schedule, Matchups and Odds -...</td>\n",
              "      <td>Benjamin Hoffman</td>\n",
              "      <td>green bay packer lost washington redskin week ...</td>\n",
              "      <td>1</td>\n",
              "      <td>[green, bay, packers, lost, washington, redski...</td>\n",
              "      <td>[green, bay, packer, lost, washington, redskin...</td>\n",
              "    </tr>\n",
              "    <tr>\n",
              "      <th>20797</th>\n",
              "      <td>20797</td>\n",
              "      <td>Macy’s Is Said to Receive Takeover Approach by...</td>\n",
              "      <td>Michael J. de la Merced and Rachel Abrams</td>\n",
              "      <td>macy today grew union great name american reta...</td>\n",
              "      <td>1</td>\n",
              "      <td>[macy, today, grew, union, great, names, ameri...</td>\n",
              "      <td>[macy, today, grew, union, great, name, americ...</td>\n",
              "    </tr>\n",
              "    <tr>\n",
              "      <th>20798</th>\n",
              "      <td>20798</td>\n",
              "      <td>NATO, Russia To Hold Parallel Exercises In Bal...</td>\n",
              "      <td>Alex Ansary</td>\n",
              "      <td>nato russia hold parallel exercise balkan pres...</td>\n",
              "      <td>0</td>\n",
              "      <td>[nato, russia, hold, parallel, exercises, balk...</td>\n",
              "      <td>[nato, russia, hold, parallel, exercise, balka...</td>\n",
              "    </tr>\n",
              "    <tr>\n",
              "      <th>20799</th>\n",
              "      <td>20799</td>\n",
              "      <td>What Keeps the F-35 Alive</td>\n",
              "      <td>David Swanson</td>\n",
              "      <td>david swanson author activist journalist radio...</td>\n",
              "      <td>0</td>\n",
              "      <td>[david, swanson, author, activist, journalist,...</td>\n",
              "      <td>[david, swanson, author, activist, journalist,...</td>\n",
              "    </tr>\n",
              "  </tbody>\n",
              "</table>\n",
              "<p>18285 rows × 7 columns</p>\n",
              "</div>"
            ],
            "text/plain": [
              "          id  ...                                          lematized\n",
              "0          0  ...  [house, dem, aide, comey, letter, jason, chaff...\n",
              "1          1  ...  [feeling, life, circle, roundabout, head, stra...\n",
              "2          2  ...  [truth, fired, october, tension, intelligence,...\n",
              "3          3  ...  [video, civilian, killed, single, airstrike, i...\n",
              "4          4  ...  [print, iranian, woman, sentenced, year, priso...\n",
              "...      ...  ...                                                ...\n",
              "20795  20795  ...  [rapper, unloaded, black, celebrity, met, dona...\n",
              "20796  20796  ...  [green, bay, packer, lost, washington, redskin...\n",
              "20797  20797  ...  [macy, today, grew, union, great, name, americ...\n",
              "20798  20798  ...  [nato, russia, hold, parallel, exercise, balka...\n",
              "20799  20799  ...  [david, swanson, author, activist, journalist,...\n",
              "\n",
              "[18285 rows x 7 columns]"
            ]
          },
          "execution_count": 81,
          "metadata": {
            "tags": []
          },
          "output_type": "execute_result"
        }
      ]
    },
    {
      "cell_type": "code",
      "metadata": {
        "id": "EP4T0LLLkzGE"
      },
      "source": [
        "x_trainkagg=trainkagg['text']\n",
        "y_trainkagg=trainkagg['label']"
      ],
      "execution_count": null,
      "outputs": []
    },
    {
      "cell_type": "code",
      "metadata": {
        "id": "jwt7cDG9ltXD"
      },
      "source": [
        "# count_vectorizer = CountVectorizer()\n",
        "# count_vectorizer.fit_transform(x_trainkagg)\n",
        "count_vec_matrix2 = count_vectorizer.transform(x_trainkagg)\n",
        "\n",
        "# tfidf = TfidfTransformer(norm = \"l2\")\n",
        "# tfidf.fit(count_vec_matrix2)\n",
        "tf_idf_matrix2 = tfidf.fit_transform(count_vec_matrix2)"
      ],
      "execution_count": null,
      "outputs": []
    },
    {
      "cell_type": "code",
      "metadata": {
        "colab": {
          "base_uri": "https://localhost:8080/"
        },
        "id": "p17S5doxmshD",
        "outputId": "25bc00d0-25a1-4da8-b067-8e8ad2e5fbda"
      },
      "source": [
        "print(tf_idf_matrix2)"
      ],
      "execution_count": null,
      "outputs": [
        {
          "name": "stdout",
          "output_type": "stream",
          "text": [
            "  (0, 91841)\t0.0201558265251417\n",
            "  (0, 90872)\t0.047460168102982696\n",
            "  (0, 90870)\t0.10191288628660226\n",
            "  (0, 90820)\t0.04043450143222049\n",
            "  (0, 90790)\t0.014019419226905699\n",
            "  (0, 90203)\t0.01965501183125812\n",
            "  (0, 89563)\t0.018204353363106343\n",
            "  (0, 89457)\t0.03203855797740566\n",
            "  (0, 89377)\t0.013561483237275705\n",
            "  (0, 89168)\t0.012470159927985256\n",
            "  (0, 88416)\t0.03044572083592868\n",
            "  (0, 88405)\t0.02349122043674644\n",
            "  (0, 88383)\t0.01826473188409005\n",
            "  (0, 86848)\t0.07001326281042738\n",
            "  (0, 86233)\t0.037516957650112835\n",
            "  (0, 86010)\t0.018426286527367136\n",
            "  (0, 85319)\t0.04343310540221251\n",
            "  (0, 84706)\t0.045244554882295875\n",
            "  (0, 84647)\t0.06089144167185736\n",
            "  (0, 84643)\t0.08054006400964712\n",
            "  (0, 84533)\t0.02581395672332961\n",
            "  (0, 84523)\t0.07469185036994332\n",
            "  (0, 83388)\t0.04846430508868945\n",
            "  (0, 82923)\t0.029110348130341048\n",
            "  (0, 82821)\t0.014267933655686441\n",
            "  :\t:\n",
            "  (18284, 7298)\t0.030101797115167497\n",
            "  (18284, 6695)\t0.04235921602643708\n",
            "  (18284, 6650)\t0.03344611372002528\n",
            "  (18284, 6647)\t0.04294762502594388\n",
            "  (18284, 5469)\t0.030383543042171175\n",
            "  (18284, 5248)\t0.056533399053301264\n",
            "  (18284, 5234)\t0.027683746758603956\n",
            "  (18284, 5151)\t0.04670320006319908\n",
            "  (18284, 4779)\t0.04475227144968442\n",
            "  (18284, 4567)\t0.050208026886369286\n",
            "  (18284, 4111)\t0.049096334247665595\n",
            "  (18284, 2678)\t0.038334600542351036\n",
            "  (18284, 2252)\t0.02613117330403025\n",
            "  (18284, 1948)\t0.0976866868767183\n",
            "  (18284, 1733)\t0.02509316879445382\n",
            "  (18284, 1732)\t0.03191931401674348\n",
            "  (18284, 1697)\t0.03745622953995361\n",
            "  (18284, 1652)\t0.04607116908049392\n",
            "  (18284, 856)\t0.0205952801671132\n",
            "  (18284, 766)\t0.04219473239652667\n",
            "  (18284, 750)\t0.023400095549089693\n",
            "  (18284, 702)\t0.04552760406646981\n",
            "  (18284, 501)\t0.026737933264245454\n",
            "  (18284, 310)\t0.016623459977524027\n",
            "  (18284, 296)\t0.020582309439212798\n"
          ]
        }
      ]
    },
    {
      "cell_type": "code",
      "metadata": {
        "colab": {
          "base_uri": "https://localhost:8080/"
        },
        "id": "0N2WOIno-x2I",
        "outputId": "9d37bc3a-8b7c-4b3d-ac6d-4f44a2e4a0e4"
      },
      "source": [
        "print(tf_idf_matrix2.shape)"
      ],
      "execution_count": null,
      "outputs": [
        {
          "name": "stdout",
          "output_type": "stream",
          "text": [
            "(18285, 93345)\n"
          ]
        }
      ]
    },
    {
      "cell_type": "code",
      "metadata": {
        "colab": {
          "base_uri": "https://localhost:8080/"
        },
        "id": "1REkvRi-kVn1",
        "outputId": "178b30fc-1716-4860-a531-783797237cf8"
      },
      "source": [
        "Accuracy = logreg.score(tf_idf_matrix2, y_trainkagg)\n",
        "\n",
        "print(Accuracy*100)"
      ],
      "execution_count": null,
      "outputs": [
        {
          "name": "stdout",
          "output_type": "stream",
          "text": [
            "60.12578616352201\n"
          ]
        }
      ]
    },
    {
      "cell_type": "code",
      "metadata": {
        "colab": {
          "base_uri": "https://localhost:8080/"
        },
        "id": "G8uwWQ8s-7OP",
        "outputId": "4f23416e-c409-4a4f-f58a-17e68048c72a"
      },
      "source": [
        "Accuracy = clf.score(tf_idf_matrix2, y_trainkagg)\n",
        "\n",
        "print(Accuracy*100)"
      ],
      "execution_count": null,
      "outputs": [
        {
          "name": "stdout",
          "output_type": "stream",
          "text": [
            "43.71342630571507\n"
          ]
        }
      ]
    },
    {
      "cell_type": "code",
      "metadata": {
        "colab": {
          "base_uri": "https://localhost:8080/"
        },
        "id": "iYgbYWIMASTE",
        "outputId": "ca6412ae-d161-44a2-fdc3-540f773dc9fc"
      },
      "source": [
        "Accuracy = NB.score(tf_idf_matrix2, y_trainkagg)\n",
        "\n",
        "print(Accuracy*100)"
      ],
      "execution_count": null,
      "outputs": [
        {
          "name": "stdout",
          "output_type": "stream",
          "text": [
            "54.90839485917418\n"
          ]
        }
      ]
    },
    {
      "cell_type": "code",
      "metadata": {
        "colab": {
          "base_uri": "https://localhost:8080/"
        },
        "id": "WiiJKBPIASuZ",
        "outputId": "5fecfb01-036a-4cf0-c9fb-ed984000b278"
      },
      "source": [
        "y_pred1=pac.predict(tf_idf_matrix2) \n",
        "score=accuracy_score(y_trainkagg,y_pred1)  \n",
        "print(f'Accuracy: {round(score*100,2)}%')"
      ],
      "execution_count": null,
      "outputs": [
        {
          "name": "stdout",
          "output_type": "stream",
          "text": [
            "Accuracy: 59.21%\n"
          ]
        }
      ]
    }
  ]
}